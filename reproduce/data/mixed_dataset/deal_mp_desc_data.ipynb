{
 "cells": [
  {
   "cell_type": "markdown",
   "metadata": {},
   "source": [
    "## Construct data for predicting 0K elastic tensor"
   ]
  },
  {
   "cell_type": "code",
   "execution_count": 1,
   "metadata": {},
   "outputs": [],
   "source": [
    "import json\n",
    "with open(\"../prompt_type_4/ec_desc_train_dataset.json\", 'r') as f:\n",
    "    train_data = json.load(f)\n",
    "with open(\"../prompt_type_4/ec_desc_test_dataset.json\", 'r') as f:\n",
    "    test_data = json.load(f)\n",
    "\n",
    "combined_data = train_data + test_data"
   ]
  },
  {
   "cell_type": "code",
   "execution_count": 2,
   "metadata": {},
   "outputs": [
    {
     "name": "stdout",
     "output_type": "stream",
     "text": [
      "Given a material description, predict the elastic tensor of it directly and accurately with scientific logic. Answer without any other comments, descriptions, or explanations. The answer should be a 6x6 Python matrix. \n"
     ]
    }
   ],
   "source": [
    "print(combined_data[0]['instruction'])"
   ]
  },
  {
   "cell_type": "code",
   "execution_count": 3,
   "metadata": {},
   "outputs": [],
   "source": [
    "new_instruction = \"Given a material description, predict its elastic tensor at 0K temperature accurately and directly using scientific logic. Provide the answer as a 6x6 Python matrix without additional comments, descriptions, or explanations. \""
   ]
  },
  {
   "cell_type": "code",
   "execution_count": 4,
   "metadata": {},
   "outputs": [],
   "source": [
    "for data in combined_data:\n",
    "    data['instruction'] = new_instruction"
   ]
  },
  {
   "cell_type": "code",
   "execution_count": 5,
   "metadata": {},
   "outputs": [
    {
     "name": "stdout",
     "output_type": "stream",
     "text": [
      "10520\n"
     ]
    }
   ],
   "source": [
    "print(len(combined_data))"
   ]
  },
  {
   "cell_type": "code",
   "execution_count": 6,
   "metadata": {},
   "outputs": [],
   "source": [
    "with open('ec_desc.json', 'w') as f:\n",
    "    f.write(\n",
    "        '[' +\n",
    "        ',\\n'.join(json.dumps(i) for i in combined_data) +\n",
    "        ']\\n')"
   ]
  },
  {
   "cell_type": "markdown",
   "metadata": {},
   "source": [
    "### Construct the data for predicting bulk modulus"
   ]
  },
  {
   "cell_type": "code",
   "execution_count": 7,
   "metadata": {},
   "outputs": [],
   "source": [
    "import json\n",
    "with open(\"mp_reverse_data.jsonl\", 'r') as f:\n",
    "    data = [json.loads(line) for line in f]"
   ]
  },
  {
   "cell_type": "code",
   "execution_count": 8,
   "metadata": {},
   "outputs": [],
   "source": [
    "from pymatgen.analysis.elasticity.elastic import ElasticTensor\n",
    "def build_bulk_voigt_dataset(datapoint):\n",
    "    instruction = \"Given a material description, predict its Voigt bulk modulus (unit: GPa) at 0K temperature accurately and directly using scientific logic. Provide the answer in the form of individual numerical value without additional comments, descriptions, or explanations. \"\n",
    "    input = datapoint['description']\n",
    "    tensor = ElasticTensor.from_voigt(datapoint['elastic tensor'])\n",
    "    output = round(tensor.k_voigt, 2)\n",
    "    return {\"instruction\": instruction, \"input\": input, \"output\": output}"
   ]
  },
  {
   "cell_type": "code",
   "execution_count": 9,
   "metadata": {},
   "outputs": [],
   "source": [
    "bv = [build_bulk_voigt_dataset(d) for d in data]\n",
    "w = bv"
   ]
  },
  {
   "cell_type": "code",
   "execution_count": 10,
   "metadata": {},
   "outputs": [
    {
     "name": "stdout",
     "output_type": "stream",
     "text": [
      "10520\n"
     ]
    }
   ],
   "source": [
    "print(len(w))"
   ]
  },
  {
   "cell_type": "code",
   "execution_count": 11,
   "metadata": {},
   "outputs": [],
   "source": [
    "with open('ec_desc_moduli.json', 'w') as f:\n",
    "    f.write(\n",
    "        '[' +\n",
    "        ',\\n'.join(json.dumps(i) for i in w) +\n",
    "        ']\\n')"
   ]
  }
 ],
 "metadata": {
  "kernelspec": {
   "display_name": "ec-test",
   "language": "python",
   "name": "python3"
  },
  "language_info": {
   "codemirror_mode": {
    "name": "ipython",
    "version": 3
   },
   "file_extension": ".py",
   "mimetype": "text/x-python",
   "name": "python",
   "nbconvert_exporter": "python",
   "pygments_lexer": "ipython3",
   "version": "3.10.14"
  }
 },
 "nbformat": 4,
 "nbformat_minor": 2
}
