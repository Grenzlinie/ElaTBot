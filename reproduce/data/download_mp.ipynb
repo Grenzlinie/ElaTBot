{
 "cells": [
  {
   "cell_type": "code",
   "execution_count": null,
   "metadata": {},
   "outputs": [],
   "source": [
    "# !!! If it is only for reproduction, please skip this step.\n",
    "\n",
    "# Download Materials Project (MP) data for elastic properties.\n",
    "# !!! Important: The official Materials Project (MP) API currently does not support downloading data for a specified database version.\n",
    "# (e.g., our version: 2023.11.01, link: https://materialsproject-build.s3.amazonaws.com/index.html#collections/2023-11-01/). \n",
    "# As a result, running this code will download data from the latest available version (2025).\n",
    "# Although the number of entries remains the same, the specific content of the data may differ.\n",
    "# To ensure reproducibility, please use the dataset provided in the `Data` folder:\n",
    "# `Data/dft_dataset/downloaded_data/mp_elastic_stable.json` and `Data/dft_dataset/downloaded_data/mp_elastic_unstable.json`.\n",
    "# The file names keep the same with the running result of this code.\n",
    "\n",
    "# mp_api latest version is not compatible with pymatgen==2023.12.18, so if you want to download the data, please use the latest version of pymatgen.\n",
    "# But our description generation part is based on pymatgen==2023.12.18, so if you want to run the description generation part, please use the version of pymatgen==2023.12.18.\n",
    "from mp_api.client import MPRester\n",
    "api_key = \"Your api key here\"\n",
    "\n",
    "# load stable mp_ids list\n",
    "with open(\"../../Data/dft_dataset/download_data/stable_data_mp_ids.csv\", \"r\") as f:\n",
    "    stable_mp_ids = f.read().splitlines()[1:]\n",
    "# load unstable mp_ids list\n",
    "with open(\"../../Data/dft_dataset/download_data/unstable_data_mp_ids.csv\", \"r\") as f:\n",
    "    unstable_mp_ids = f.read().splitlines()[1:]\n",
    "print(\"Stable mp_ids: \", len(stable_mp_ids))\n",
    "print(\"Unstable mp_ids: \", len(unstable_mp_ids))\n",
    "\n",
    "with MPRester(api_key) as mpr:\n",
    "    stable_materials = mpr.materials.elasticity.search(material_ids=stable_mp_ids)\n",
    "    unstable_materials = mpr.materials.elasticity.search(material_ids=unstable_mp_ids)\n",
    "    \n",
    "from monty.serialization import dumpfn\n",
    "dumpfn(stable_materials, \"mp_elastic_stable.json\")\n",
    "dumpfn(unstable_materials, \"mp_elastic_unstable.json\")"
   ]
  },
  {
   "cell_type": "code",
   "execution_count": 2,
   "metadata": {},
   "outputs": [],
   "source": [
    "# Here we suppose that the data is already downloaded\n",
    "# We copy the files from `Data/dft_dataset/download_data`\n",
    "import json \n",
    "with open(\"mp_elastic_stable.json\") as f:\n",
    "    stable_data = json.load(f)\n",
    "with open(\"mp_elastic_unstable.json\") as f:\n",
    "    unstable_data = json.load(f)"
   ]
  },
  {
   "cell_type": "code",
   "execution_count": null,
   "metadata": {},
   "outputs": [],
   "source": [
    "from robocrys import StructureCondenser, StructureDescriber\n",
    "from pymatgen.io.vasp import Poscar\n",
    "from pymatgen.core.structure import Structure\n",
    "from pymatgen.symmetry.analyzer import SpacegroupAnalyzer\n",
    "from tqdm import tqdm\n",
    "\n",
    "def describe_structures(entry):\n",
    "    structure = Structure.from_dict(entry[\"structure\"])\n",
    "    structure.add_oxidation_state_by_guess()\n",
    "    condenser = StructureCondenser()\n",
    "    describer = StructureDescriber()\n",
    "    condensed_structure = condenser.condense_structure(structure)\n",
    "    description = describer.describe(condensed_structure)\n",
    "    return description\n",
    "\n",
    "for i in tqdm(range(len(stable_data))):\n",
    "    stable_data[i]['description'] = describe_structures(stable_data[i])\n",
    "\n",
    "with open(\"mp_elastic_stable_with_desc.json\", \"w\") as f:\n",
    "    json.dump(stable_data, f, indent=2)\n",
    "\n",
    "for i in tqdm(range(len(unstable_data))):\n",
    "    unstable_data[i]['description'] = describe_structures(unstable_data[i])\n",
    "\n",
    "with open(\"mp_elastic_unstable_with_desc.json\", \"w\") as f:\n",
    "    json.dump(unstable_data, f, indent=2)"
   ]
  },
  {
   "cell_type": "code",
   "execution_count": 1,
   "metadata": {},
   "outputs": [],
   "source": [
    "with open(\"mp_elastic_combined.json\", \"w\") as f:\n",
    "    json.dump(stable_data + unstable_data, f, indent=2)"
   ]
  }
 ],
 "metadata": {
  "kernelspec": {
   "display_name": "ec-test",
   "language": "python",
   "name": "python3"
  },
  "language_info": {
   "codemirror_mode": {
    "name": "ipython",
    "version": 3
   },
   "file_extension": ".py",
   "mimetype": "text/x-python",
   "name": "python",
   "nbconvert_exporter": "python",
   "pygments_lexer": "ipython3",
   "version": "3.10.14"
  }
 },
 "nbformat": 4,
 "nbformat_minor": 2
}
