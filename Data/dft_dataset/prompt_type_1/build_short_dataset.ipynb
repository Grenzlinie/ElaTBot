{
 "cells": [
  {
   "cell_type": "code",
   "execution_count": 1,
   "metadata": {},
   "outputs": [],
   "source": [
    "import json\n",
    "\n",
    "with open('processed_elasticity_dataset.json') as f:\n",
    "    origin_data = json.load(f)"
   ]
  },
  {
   "cell_type": "code",
   "execution_count": 2,
   "metadata": {},
   "outputs": [
    {
     "name": "stdout",
     "output_type": "stream",
     "text": [
      "Original data length 12127\n"
     ]
    },
    {
     "name": "stderr",
     "output_type": "stream",
     "text": [
      "/Users/siyuliu/anaconda3/envs/ec/lib/python3.10/site-packages/pymatgen/analysis/elasticity/elastic.py:172: RuntimeWarning: divide by zero encountered in scalar divide\n",
      "  return 1 / self.compliance_tensor.voigt[:3, :3].sum()\n",
      "/Users/siyuliu/anaconda3/envs/ec/lib/python3.10/site-packages/pymatgen/analysis/elasticity/elastic.py:199: RuntimeWarning: invalid value encountered in scalar divide\n",
      "  return 9.0e9 * self.k_vrh * self.g_vrh / (3 * self.k_vrh + self.g_vrh)\n"
     ]
    },
    {
     "name": "stdout",
     "output_type": "stream",
     "text": [
      "[53, 74, 159, 247, 338, 450, 488, 542, 552, 690, 719, 788, 901, 1044, 1079, 1097, 1154, 1210, 1216, 1229, 1302, 1381, 1399, 1466, 1477, 1520, 1529, 1556, 1564, 1604, 1629, 1649, 1717, 1822, 1920, 1925, 1941, 2025, 2195, 2222, 2232, 2257, 2521, 2571, 2590, 2676, 2692, 2818, 2831, 2893, 2946, 2980, 2985, 3026, 3045, 3060, 3124, 3210, 3215, 3221, 3230, 3251, 3265, 3273, 3352, 3423, 3451, 3504, 3568, 3626, 3739, 3787, 3791, 3792, 3859, 3935, 3988, 4013, 4024, 4032, 4039, 4169, 4174, 4211, 4255, 4304, 4305, 4436, 4507, 4516, 4534, 4579, 4600, 4607, 4648, 4652, 4740, 4767, 4912, 4981, 5005, 5051, 5061, 5142, 5337, 5340, 5431, 5488, 5525, 5553, 5626, 5653, 5715, 5745, 5798, 5855, 6025, 6027, 6091, 6113, 6153, 6172, 6251, 6355, 6416, 6423, 6454, 6457, 6470, 6510, 6516, 6534, 6582, 6595, 6615, 6619, 6674, 6705, 6718, 6746, 6747, 6750, 6758, 6767, 6771, 6791, 6860, 6885, 6893, 6943, 6944, 6990, 7035, 7189, 7197, 7198, 7199, 7208, 7210, 7272, 7282, 7365, 7401, 7407, 7557, 7560, 7574, 7633, 7691, 7778, 7800, 7813, 7817, 7822, 7844, 7871, 7880, 7886, 7908, 7956, 7957, 8006, 8052, 8061, 8107, 8113, 8156, 8165, 8169, 8180, 8205, 8238, 8248, 8251, 8333, 8338, 8375, 8378, 8400, 8445, 8601, 8605, 8608, 8610, 8688, 8697, 8742, 8744, 8803, 8843, 8859, 8860, 8908, 8996, 9033, 9053, 9071, 9099, 9121, 9130, 9153, 9157, 9171, 9199, 9207, 9210, 9219, 9221, 9291, 9301, 9320, 9323, 9326, 9344, 9347, 9362, 9371, 9406, 9466, 9469, 9523, 9537, 9566, 9572, 9575, 9598, 9644, 9669, 9711, 9728, 9754, 9768, 9781, 9860, 9874, 9912, 9973, 10008, 10036, 10050, 10149, 10167, 10176, 10182, 10215, 10250, 10256, 10269, 10279, 10282, 10305, 10355, 10391, 10433, 10486, 10533, 10569, 10585, 10615, 10617, 10637, 10681, 10685, 10710, 10766, 10804, 10932, 11003, 11016, 11136, 11170, 11188, 11189, 11190, 11191, 11193, 11208, 11221, 11272, 11301, 11307, 11336, 11377, 11403, 11411, 11412, 11415, 11459, 11465, 11495, 11522, 11528, 11535, 11536, 11537, 11551, 11559, 11573, 11581, 11607, 11646, 11681, 11702, 11747, 11748, 11760, 11772, 11808, 11911, 11949, 11966, 11983, 12013, 12032, 12044, 12072, 12097, 12098, 12101, 12123]\n",
      "340\n",
      "After removing data length 11787\n"
     ]
    },
    {
     "name": "stderr",
     "output_type": "stream",
     "text": [
      "/Users/siyuliu/anaconda3/envs/ec/lib/python3.10/site-packages/pymatgen/analysis/elasticity/elastic.py:177: RuntimeWarning: divide by zero encountered in scalar divide\n",
      "  return 15 / (\n"
     ]
    }
   ],
   "source": [
    "from pymatgen.analysis.elasticity import ElasticTensor\n",
    "import numpy as np\n",
    "\n",
    "print(\"Original data length\", len(origin_data))\n",
    "id_list = []\n",
    "for i in range(len(origin_data)):\n",
    "    try:\n",
    "        elastic_constant = np.asarray(origin_data[i]['elastic_tensor'])\n",
    "        elastic_tensor = ElasticTensor.from_voigt(elastic_constant)\n",
    "        y_m = round(elastic_tensor.y_mod / 1e9, 3)\n",
    "    except Exception as e:\n",
    "        id_list.append(i)\n",
    "\n",
    "print(id_list)\n",
    "print(len(id_list))\n",
    "\n",
    "for index in sorted(id_list, reverse=True):\n",
    "    del origin_data[index]\n",
    "\n",
    "print(\"After removing data length\", len(origin_data))"
   ]
  },
  {
   "cell_type": "code",
   "execution_count": 3,
   "metadata": {},
   "outputs": [],
   "source": [
    "def calculate_properties(stiffness_matrix: list) -> (float, float, float):\n",
    "    elastic_constant = np.asarray(stiffness_matrix)\n",
    "    elastic_tensor = ElasticTensor.from_voigt(elastic_constant)\n",
    "    youngs_modulus = round(elastic_tensor.y_mod / 1e9, 3)\n",
    "    return youngs_modulus"
   ]
  },
  {
   "cell_type": "code",
   "execution_count": 4,
   "metadata": {},
   "outputs": [
    {
     "name": "stdout",
     "output_type": "stream",
     "text": [
      "Original data length 11787\n",
      "Deleted data with bulk_modulus or shear_modulus abnormality 10520\n"
     ]
    }
   ],
   "source": [
    "#删除体积模量和剪切模量异常的数据\n",
    "print(\"Original data length\", len(origin_data))\n",
    "delete_index = []\n",
    "for i in range(len(origin_data)):\n",
    "    if origin_data[i]['bulk_modulus'] == None or origin_data[i]['shear_modulus'] == None:\n",
    "        delete_index.append(i)\n",
    "    elif any(value < 0 for value in origin_data[i]['bulk_modulus'].values()) or any(value > 1000 for value in origin_data[i]['bulk_modulus'].values()):\n",
    "        delete_index.append(i)\n",
    "    elif any(value < 0 for value in origin_data[i]['shear_modulus'].values()) or any(value > 1000 for value in origin_data[i]['shear_modulus'].values()):\n",
    "        delete_index.append(i)\n",
    "\n",
    "for index in sorted(delete_index, reverse=True):\n",
    "    del origin_data[index]\n",
    "\n",
    "print(\"Deleted data with bulk_modulus or shear_modulus abnormality\", len(origin_data))"
   ]
  },
  {
   "cell_type": "code",
   "execution_count": 5,
   "metadata": {},
   "outputs": [],
   "source": [
    "with open('delete_abnormality.jsonl', 'w') as f:\n",
    "    for item in origin_data:\n",
    "        json.dump(item, f)\n",
    "        f.write('\\n')"
   ]
  },
  {
   "cell_type": "code",
   "execution_count": 6,
   "metadata": {},
   "outputs": [],
   "source": [
    "with open('delete_abnormality.jsonl', 'r') as f:\n",
    "    after_deleted_data = [json.loads(line) for line in f]"
   ]
  },
  {
   "cell_type": "code",
   "execution_count": 7,
   "metadata": {},
   "outputs": [],
   "source": [
    "bulk_modulus = [item['bulk_modulus']['vrh'] for item in after_deleted_data]\n",
    "shear_modulus = [item['shear_modulus']['vrh'] for item in after_deleted_data]\n",
    "young_modulus = [calculate_properties(item['elastic_tensor']) for item in after_deleted_data]"
   ]
  },
  {
   "cell_type": "code",
   "execution_count": 8,
   "metadata": {},
   "outputs": [],
   "source": [
    "for i in range(len(after_deleted_data)):\n",
    "    after_deleted_data[i]['young_modulus'] = young_modulus[i]"
   ]
  },
  {
   "cell_type": "code",
   "execution_count": 9,
   "metadata": {},
   "outputs": [],
   "source": [
    "with open('delete_abnormality_and_addyoung.jsonl', 'w') as f:\n",
    "    for item in after_deleted_data:\n",
    "        json.dump(item, f)\n",
    "        f.write('\\n')"
   ]
  },
  {
   "cell_type": "code",
   "execution_count": 10,
   "metadata": {},
   "outputs": [],
   "source": [
    "with open('delete_abnormality_and_addyoung.jsonl', 'r') as f:\n",
    "    after_deleted_data = [json.loads(line) for line in f]"
   ]
  },
  {
   "cell_type": "code",
   "execution_count": 11,
   "metadata": {},
   "outputs": [
    {
     "name": "stdout",
     "output_type": "stream",
     "text": [
      "Crystal structures: 7\n",
      "Crystal structure values count: {'Cubic': 4175, 'Hexagonal': 1471, 'Monoclinic': 572, 'Triclinic': 66, 'Orthorhombic': 1386, 'Tetragonal': 2036, 'Trigonal': 814}\n",
      "5% for each crystal_system: {'Cubic': 208, 'Hexagonal': 73, 'Monoclinic': 28, 'Triclinic': 3, 'Orthorhombic': 69, 'Tetragonal': 101, 'Trigonal': 40}\n",
      "Number of items labeled as 'test': 522\n"
     ]
    }
   ],
   "source": [
    "#划分测试集和训练集\n",
    "import math\n",
    "crystal_structure_data = [item['symmetry']['crystal_system'] for item in after_deleted_data]\n",
    "crystal_structure_set = set(crystal_structure_data)\n",
    "crystal_structure_count = len(crystal_structure_set)\n",
    "crystal_structure_values_count = {structure: crystal_structure_data.count(structure) for structure in crystal_structure_set}\n",
    "print(f'Crystal structures: {crystal_structure_count}')\n",
    "print(f'Crystal structure values count: {crystal_structure_values_count}')\n",
    "csv_p5 = {k: math.floor(v*0.05) for k, v in crystal_structure_values_count.items() if v >= 5}\n",
    "print(f'5% for each crystal_system: {csv_p5}')\n",
    "\n",
    "for k, v in csv_p5.items():\n",
    "    for item in after_deleted_data:\n",
    "        if item['symmetry']['crystal_system'] == k:\n",
    "            item['label'] = 'test'\n",
    "            v -= 1\n",
    "            if v == 0:\n",
    "                break\n",
    "\n",
    "for item in after_deleted_data:\n",
    "    if 'label' not in item:\n",
    "        item['label'] = 'train'\n",
    "\n",
    "test_label_count = sum(1 for item in after_deleted_data if item.get('label') == 'test')\n",
    "print(f\"Number of items labeled as 'test': {test_label_count}\")"
   ]
  },
  {
   "cell_type": "code",
   "execution_count": 12,
   "metadata": {},
   "outputs": [],
   "source": [
    "with open('labeled_data.jsonl', 'w') as f:\n",
    "    for item in after_deleted_data:\n",
    "        json.dump(item, f)\n",
    "        f.write('\\n')"
   ]
  },
  {
   "cell_type": "code",
   "execution_count": 21,
   "metadata": {},
   "outputs": [],
   "source": [
    "with open('labeled_data.jsonl', 'r') as f:\n",
    "    labeled_data = [json.loads(line) for line in f]"
   ]
  },
  {
   "cell_type": "code",
   "execution_count": 22,
   "metadata": {},
   "outputs": [
    {
     "name": "stdout",
     "output_type": "stream",
     "text": [
      "elements ['B', 'Fe']\n",
      "formula_pretty FeB\n",
      "symmetry {'crystal_system': 'Orthorhombic', 'symbol': 'Cmcm', 'number': 63, 'point_group': 'mmm', 'symprec': 0.1}\n",
      "primitive_structure {'@module': 'pymatgen.core.structure', '@class': 'Structure', 'charge': 0.0, 'lattice': {'matrix': [[1.448887, -3.770052, 0.0], [1.448887, 3.770052, 0.0], [0.0, 0.0, 2.94631]], 'pbc': [True, True, True], 'a': 4.038881, 'b': 4.038881, 'c': 2.94631, 'alpha': 90.0, 'beta': 90.0, 'gamma': 137.95498, 'volume': 32.187721}, 'properties': {}, 'sites': [{'species': [{'element': 'Fe', 'occu': 1}], 'abc': [0.856822, 0.143178, 0.75], 'xyz': [1.448887, -2.690477, 2.209733], 'properties': {'magmom': 1.494}, 'label': 'Fe'}, {'species': [{'element': 'Fe', 'occu': 1}], 'abc': [0.143178, 0.856822, 0.25], 'xyz': [1.448887, 2.690477, 0.736578], 'properties': {'magmom': 1.494}, 'label': 'Fe'}, {'species': [{'element': 'B', 'occu': 1}], 'abc': [0.569059, 0.430941, 0.75], 'xyz': [1.448887, -0.520714, 2.209733], 'properties': {'magmom': -0.054}, 'label': 'B'}, {'species': [{'element': 'B', 'occu': 1}], 'abc': [0.430941, 0.569059, 0.25], 'xyz': [1.448887, 0.520714, 0.736578], 'properties': {'magmom': -0.054}, 'label': 'B'}]}\n",
      "conventional_structure {'@module': 'pymatgen.core.structure', '@class': 'Structure', 'charge': 0, 'lattice': {'matrix': [[2.897774, 0.0, 0.0], [0.0, 7.540103, 0.0], [0.0, 0.0, 2.94631]], 'pbc': [True, True, True], 'a': 2.897774, 'b': 7.540103, 'c': 2.94631, 'alpha': 90.0, 'beta': 90.0, 'gamma': 90.0, 'volume': 64.375442}, 'properties': {}, 'sites': [{'species': [{'element': 'Fe', 'occu': 1}], 'abc': [0.5, 0.643178, 0.75], 'xyz': [1.448887, 4.849626, 2.209733], 'properties': {}, 'label': 'Fe'}, {'species': [{'element': 'Fe', 'occu': 1}], 'abc': [0.0, 0.856822, 0.25], 'xyz': [0.0, 6.460528, 0.736578], 'properties': {}, 'label': 'Fe'}, {'species': [{'element': 'Fe', 'occu': 1}], 'abc': [0.0, 0.143178, 0.75], 'xyz': [0.0, 1.079575, 2.209733], 'properties': {}, 'label': 'Fe'}, {'species': [{'element': 'Fe', 'occu': 1}], 'abc': [0.5, 0.356822, 0.25], 'xyz': [1.448887, 2.690477, 0.736578], 'properties': {}, 'label': 'Fe'}, {'species': [{'element': 'B', 'occu': 1}], 'abc': [0.5, 0.930941, 0.75], 'xyz': [1.448887, 7.019389, 2.209733], 'properties': {}, 'label': 'B'}, {'species': [{'element': 'B', 'occu': 1}], 'abc': [0.0, 0.569059, 0.25], 'xyz': [0.0, 4.290766, 0.736578], 'properties': {}, 'label': 'B'}, {'species': [{'element': 'B', 'occu': 1}], 'abc': [0.0, 0.430941, 0.75], 'xyz': [0.0, 3.249337, 2.209733], 'properties': {}, 'label': 'B'}, {'species': [{'element': 'B', 'occu': 1}], 'abc': [0.5, 0.069059, 0.25], 'xyz': [1.448887, 0.520714, 0.736578], 'properties': {}, 'label': 'B'}]}\n",
      "elastic_tensor [[450.0, 195.0, 171.0, 0.0, 0.0, 0.0], [195.0, 470.0, 150.0, 0.0, 0.0, 0.0], [171.0, 150.0, 345.0, 0.0, 0.0, 0.0], [0.0, 0.0, 0.0, 177.0, 0.0, 0.0], [0.0, 0.0, 0.0, 0.0, 203.0, 0.0], [0.0, 0.0, 0.0, 0.0, 0.0, 187.0]]\n",
      "bulk_modulus {'voigt': 254.969, 'reuss': 247.879, 'vrh': 251.424}\n",
      "shear_modulus {'voigt': 163.419, 'reuss': 154.716, 'vrh': 159.067}\n",
      "young_modulus 393.981\n",
      "universal_anisotropy 0.31\n",
      "isotropic_possion_ratio 0.239\n",
      "label test\n"
     ]
    }
   ],
   "source": [
    "#打印key看一下\n",
    "for k, v in labeled_data[0].items():\n",
    "    print(k, v)"
   ]
  },
  {
   "cell_type": "code",
   "execution_count": 15,
   "metadata": {},
   "outputs": [],
   "source": [
    "def fix_some_keys(re_item):\n",
    "    re_item = {'material_formula': re_item['formula_pretty'], **re_item}\n",
    "    del re_item['elements']\n",
    "    del re_item['formula_pretty']\n",
    "    del re_item['primitive_structure']\n",
    "    del re_item['conventional_structure']['@module']\n",
    "    del re_item['conventional_structure']['@class']\n",
    "    del re_item['conventional_structure']['charge']\n",
    "    del re_item['conventional_structure']['lattice']['pbc']\n",
    "    del re_item['conventional_structure']['properties']\n",
    "    for site in re_item['conventional_structure']['sites']:\n",
    "        del site['abc']\n",
    "        del site['properties']\n",
    "        del site['label']\n",
    "    del re_item['label']\n",
    "    re_item = {key: value for key, value in re_item.items() if key not in ['elastic_tensor','bulk_modulus', 'shear_modulus', 'young_modulus', 'universal_anisotropy', 'isotropic_possion_ratio']}\n",
    "    return re_item"
   ]
  },
  {
   "cell_type": "code",
   "execution_count": 20,
   "metadata": {},
   "outputs": [],
   "source": [
    "#构建alpaca数据集\n",
    "def build_alpaca_dataset(data):\n",
    "    train_dataset = []\n",
    "    test_dataset = []\n",
    "    instruction = f\"\"\"Given a material's symmetry and conventional cell structure, predict the elastic tensor of it directly and accurately with scientific logic. Answer without any other comments, descriptions, or explanations. The answer should be a 6x6 Python matrix. The material information is presented in JSON format. \"\"\"\n",
    "    for item in data:\n",
    "        label = item['label']\n",
    "        input_item = f\"Information JSON of Material {item['formula_pretty']}:\" + f\"{fix_some_keys(item)}\"\n",
    "        output_item = f\"{item['elastic_tensor']}\"\n",
    "        if label == 'test':\n",
    "            test_dataset.append({\n",
    "                'instruction': instruction,\n",
    "                'input': input_item,\n",
    "                'output': output_item,\n",
    "            })\n",
    "        else:\n",
    "            train_dataset.append({\n",
    "                'instruction': instruction,\n",
    "                'input': input_item,\n",
    "                'output': output_item,\n",
    "            })\n",
    "    return train_dataset, test_dataset"
   ]
  },
  {
   "cell_type": "code",
   "execution_count": 23,
   "metadata": {},
   "outputs": [],
   "source": [
    "tr, te = build_alpaca_dataset(labeled_data)\n",
    "\n",
    "\n",
    "with open('ec_short_train_dataset.json', 'w') as file:\n",
    "    json.dump(tr, file)\n",
    "\n",
    "with open('ec_short_test_dataset.json', 'w') as file:\n",
    "    json.dump(te, file)"
   ]
  },
  {
   "cell_type": "code",
   "execution_count": 24,
   "metadata": {},
   "outputs": [
    {
     "name": "stdout",
     "output_type": "stream",
     "text": [
      "9998\n",
      "522\n"
     ]
    }
   ],
   "source": [
    "print(len(tr))\n",
    "print(len(te))"
   ]
  },
  {
   "cell_type": "code",
   "execution_count": 25,
   "metadata": {},
   "outputs": [
    {
     "name": "stdout",
     "output_type": "stream",
     "text": [
      "{'instruction': \"Given a material's symmetry and conventional cell structure, predict the elastic tensor of it directly and accurately with scientific logic. Answer without any other comments, descriptions, or explanations. The answer should be a 6x6 Python matrix. The material information is presented in JSON format. \", 'input': \"Information JSON of Material TiB2:{'material_formula': 'TiB2', 'symmetry': {'crystal_system': 'Hexagonal', 'symbol': 'P6/mmm', 'number': 191, 'point_group': '6/mmm', 'symprec': 0.1}, 'conventional_structure': {'lattice': {'matrix': [[1.517019, -2.627554, 0.0], [1.517019, 2.627554, 0.0], [0.0, 0.0, 3.227438]], 'a': 3.034038, 'b': 3.034038, 'c': 3.227438, 'alpha': 90.0, 'beta': 90.0, 'gamma': 120.0, 'volume': 25.729454}, 'sites': [{'species': [{'element': 'Ti', 'occu': 1}], 'xyz': [0.0, 0.0, 0.0]}, {'species': [{'element': 'B', 'occu': 1}], 'xyz': [1.517019, -0.875851, 1.613719]}, {'species': [{'element': 'B', 'occu': 1}], 'xyz': [1.517019, 0.875851, 1.613719]}]}}\", 'output': '[[652.0, 65.0, 106.0, 0.0, 0.0, 0.0], [65.0, 652.0, 106.0, 0.0, 0.0, 0.0], [106.0, 106.0, 451.0, 0.0, 0.0, 0.0], [0.0, 0.0, 0.0, 259.0, 0.0, 0.0], [0.0, 0.0, 0.0, 0.0, 259.0, 0.0], [0.0, 0.0, 0.0, 0.0, 0.0, 293.0]]'}\n",
      "{'instruction': \"Given a material's symmetry and conventional cell structure, predict the elastic tensor of it directly and accurately with scientific logic. Answer without any other comments, descriptions, or explanations. The answer should be a 6x6 Python matrix. The material information is presented in JSON format. \", 'input': \"Information JSON of Material FeB:{'material_formula': 'FeB', 'symmetry': {'crystal_system': 'Orthorhombic', 'symbol': 'Cmcm', 'number': 63, 'point_group': 'mmm', 'symprec': 0.1}, 'conventional_structure': {'lattice': {'matrix': [[2.897774, 0.0, 0.0], [0.0, 7.540103, 0.0], [0.0, 0.0, 2.94631]], 'a': 2.897774, 'b': 7.540103, 'c': 2.94631, 'alpha': 90.0, 'beta': 90.0, 'gamma': 90.0, 'volume': 64.375442}, 'sites': [{'species': [{'element': 'Fe', 'occu': 1}], 'xyz': [1.448887, 4.849626, 2.209733]}, {'species': [{'element': 'Fe', 'occu': 1}], 'xyz': [0.0, 6.460528, 0.736578]}, {'species': [{'element': 'Fe', 'occu': 1}], 'xyz': [0.0, 1.079575, 2.209733]}, {'species': [{'element': 'Fe', 'occu': 1}], 'xyz': [1.448887, 2.690477, 0.736578]}, {'species': [{'element': 'B', 'occu': 1}], 'xyz': [1.448887, 7.019389, 2.209733]}, {'species': [{'element': 'B', 'occu': 1}], 'xyz': [0.0, 4.290766, 0.736578]}, {'species': [{'element': 'B', 'occu': 1}], 'xyz': [0.0, 3.249337, 2.209733]}, {'species': [{'element': 'B', 'occu': 1}], 'xyz': [1.448887, 0.520714, 0.736578]}]}}\", 'output': '[[450.0, 195.0, 171.0, 0.0, 0.0, 0.0], [195.0, 470.0, 150.0, 0.0, 0.0, 0.0], [171.0, 150.0, 345.0, 0.0, 0.0, 0.0], [0.0, 0.0, 0.0, 177.0, 0.0, 0.0], [0.0, 0.0, 0.0, 0.0, 203.0, 0.0], [0.0, 0.0, 0.0, 0.0, 0.0, 187.0]]'}\n"
     ]
    }
   ],
   "source": [
    "print(tr[0])\n",
    "print(te[0])"
   ]
  },
  {
   "cell_type": "code",
   "execution_count": 3,
   "metadata": {},
   "outputs": [
    {
     "name": "stdout",
     "output_type": "stream",
     "text": [
      "Given a material's symmetry and conventional cell structure, predict the elastic tensor of it directly and accurately with scientific logic. Answer without any other comments, descriptions, or explanations. The answer should be a 6x6 Python matrix. The material information is presented in JSON format. Information JSON of Material TiB2:{'material_formula': 'TiB2', 'symmetry': {'crystal_system': 'Hexagonal', 'symbol': 'P6/mmm', 'number': 191, 'point_group': '6/mmm', 'symprec': 0.1}, 'conventional_structure': {'lattice': {'matrix': [[1.517019, -2.627554, 0.0], [1.517019, 2.627554, 0.0], [0.0, 0.0, 3.227438]], 'a': 3.034038, 'b': 3.034038, 'c': 3.227438, 'alpha': 90.0, 'beta': 90.0, 'gamma': 120.0, 'volume': 25.729454}, 'sites': [{'species': [{'element': 'Ti', 'occu': 1}], 'xyz': [0.0, 0.0, 0.0]}, {'species': [{'element': 'B', 'occu': 1}], 'xyz': [1.517019, -0.875851, 1.613719]}, {'species': [{'element': 'B', 'occu': 1}], 'xyz': [1.517019, 0.875851, 1.613719]}]}}\n"
     ]
    }
   ],
   "source": [
    "import json\n",
    "\n",
    "with open('ec_short_train_dataset.json', 'r') as file:\n",
    "    train_data = json.load(file)\n",
    "\n",
    "print(train_data[0]['instruction']+train_data[0]['input'])\n"
   ]
  }
 ],
 "metadata": {
  "kernelspec": {
   "display_name": "ec-test",
   "language": "python",
   "name": "python3"
  },
  "language_info": {
   "codemirror_mode": {
    "name": "ipython",
    "version": 3
   },
   "file_extension": ".py",
   "mimetype": "text/x-python",
   "name": "python",
   "nbconvert_exporter": "python",
   "pygments_lexer": "ipython3",
   "version": "3.10.14"
  }
 },
 "nbformat": 4,
 "nbformat_minor": 2
}
