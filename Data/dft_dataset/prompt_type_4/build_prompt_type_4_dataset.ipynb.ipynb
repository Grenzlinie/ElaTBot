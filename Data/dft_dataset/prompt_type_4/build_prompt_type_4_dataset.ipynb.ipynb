{
 "cells": [
  {
   "cell_type": "code",
   "execution_count": null,
   "metadata": {},
   "outputs": [],
   "source": [
    "# Combine stable and unstable data into one file\n",
    "# import json\n",
    "# with open('../download_data/mp_elastic_stable_with_desc.json') as f:\n",
    "#     stable = json.load(f)\n",
    "# with open('../download_data/mp_elastic_unstable_with_desc.json') as f:\n",
    "#     unstable = json.load(f)\n",
    "\n",
    "# data = stable + unstable\n",
    "# with open('mp_elastic_with_desc.json', 'w') as f:\n",
    "#         json.dump(data, f, indent=2)\n"
   ]
  },
  {
   "cell_type": "code",
   "execution_count": 1,
   "metadata": {},
   "outputs": [],
   "source": [
    "#Add basic features\n",
    "import json\n",
    "with open(\"mp_elastic_with_desc.json\") as f:\n",
    "    data = json.load(f)"
   ]
  },
  {
   "cell_type": "code",
   "execution_count": null,
   "metadata": {},
   "outputs": [],
   "source": [
    "for k, v in data[2].items():\n",
    "    print(k, v)"
   ]
  },
  {
   "cell_type": "code",
   "execution_count": null,
   "metadata": {},
   "outputs": [],
   "source": [
    "from pymatgen.core.periodic_table import Element\n",
    "import math\n",
    "# 获取所有元素的电负性 Get the electronegativity of all elements\n",
    "electronegativities = {element.symbol: element.X for element in Element}\n",
    "\n",
    "# 获取所有元素的离化能 Get the ionization energy of all elements\n",
    "ionization_energy = {element.symbol: round(element.ionization_energy, 3) if element.ionization_energy is not None and not math.isnan(element.ionization_energy) else None for element in Element}\n",
    "\n",
    "# 获取所有元素的modulus Get the modulus of all elements\n",
    "bulk_modulus = {element.symbol: element.bulk_modulus for element in Element}\n",
    "youngs_modulus = {element.symbol: element.youngs_modulus for element in Element}\n",
    "poissons_ratio = {element.symbol: element.poissons_ratio for element in Element}\n",
    "\n",
    "# 获取所有元素的原子半径 Get the atomic radius of all elements\n",
    "atomic_radius = {element.symbol: element.atomic_radius_calculated for element in Element}\n",
    "\n"
   ]
  },
  {
   "cell_type": "code",
   "execution_count": null,
   "metadata": {},
   "outputs": [],
   "source": [
    "def append_property_info(element, property_value, property_name, unit=\"\"):\n",
    "    if property_value[element]:\n",
    "        return f\"{property_name} of {property_value[element]}{unit}, \"\n",
    "    return \"\""
   ]
  },
  {
   "cell_type": "code",
   "execution_count": null,
   "metadata": {},
   "outputs": [],
   "source": [
    "for i in range(len(data)):\n",
    "    formula = data[i]['formula_pretty']\n",
    "    elements = data[i]['elements']\n",
    "    composition = data[i]['composition_reduced']\n",
    "    density = round(data[i]['density'], 3)\n",
    "    density_per_atom = round(data[i]['density_atomic'], 3)\n",
    "    intro = f\"The material {formula} with a reduced composition of {composition} exhibits a density of {density} g/cm^3 and a density per atom of {density_per_atom} g/cm^3. \"\n",
    "    interval = \"The information about the elements contained in the material is as follows. \"\n",
    "    elem_info = \"\"\n",
    "    for element in elements:\n",
    "        elem_info += f\"{element} has \"\n",
    "        elem_info += append_property_info(element, electronegativities, \"an electronegativity\")\n",
    "        elem_info += append_property_info(element, ionization_energy, \"an ionization energy\", \" eV\")\n",
    "        elem_info += append_property_info(element, bulk_modulus, \"a bulk modulus\", \"\")\n",
    "        elem_info += append_property_info(element, youngs_modulus, \"a Young's modulus\", \"\")\n",
    "        elem_info += append_property_info(element, poissons_ratio, \"a Poisson's ratio\")\n",
    "        elem_info += append_property_info(element, atomic_radius, \"an atomic radius\", \" Å\")\n",
    "        if elem_info.endswith(\", \"):\n",
    "            elem_info = elem_info[:-2] + \". \"\n",
    "        if elem_info == f\"{element} has \":\n",
    "            elem_info = \"\"\n",
    "    if elem_info != \"\":\n",
    "        elem_info = interval + elem_info\n",
    "    data[i]['description'] = intro + elem_info + data[i]['description']\n"
   ]
  },
  {
   "cell_type": "code",
   "execution_count": null,
   "metadata": {},
   "outputs": [],
   "source": [
    "with open('mp_elastic_with_desc0and1.json', 'w') as f:\n",
    "    json.dump(data, f, indent=2)"
   ]
  },
  {
   "cell_type": "code",
   "execution_count": null,
   "metadata": {},
   "outputs": [],
   "source": [
    "print(data[2]['description'])"
   ]
  },
  {
   "cell_type": "code",
   "execution_count": 6,
   "metadata": {},
   "outputs": [],
   "source": [
    "import json\n",
    "with open(\"mp_elastic_with_desc0and1.json\") as f:\n",
    "    data = json.load(f)"
   ]
  },
  {
   "cell_type": "code",
   "execution_count": 7,
   "metadata": {},
   "outputs": [
    {
     "name": "stdout",
     "output_type": "stream",
     "text": [
      "builder_meta {'emmet_version': '0.71.1', 'pymatgen_version': '2023.10.4', 'pull_request': 990, 'database_version': '2023.11.1', 'build_date': '2023-10-20 07:26:54.333000', 'license': None}\n",
      "nsites 4\n",
      "elements ['B', 'Fe']\n",
      "nelements 2\n",
      "composition {'Fe': 2.0, 'B': 2.0}\n",
      "composition_reduced {'Fe': 1.0, 'B': 1.0}\n",
      "formula_pretty FeB\n",
      "formula_anonymous AB\n",
      "chemsys B-Fe\n",
      "volume 32.18772121930709\n",
      "density 6.87746058623732\n",
      "density_atomic 8.046930304826773\n",
      "symmetry {'crystal_system': 'Orthorhombic', 'symbol': 'Cmcm', 'number': 63, 'point_group': 'mmm', 'symprec': 0.1, 'version': '1.16.5'}\n",
      "property_name elasticity\n",
      "material_id mp-1007881\n",
      "deprecated False\n",
      "deprecation_reasons None\n",
      "last_updated 2023-10-20 07:26:54.333000\n",
      "origins []\n",
      "warnings []\n",
      "structure {'@module': 'pymatgen.core.structure', '@class': 'Structure', 'charge': 0.0, 'lattice': {'matrix': [[1.44888685, -3.77005152, 0.0], [1.44888685, 3.77005152, -0.0], [0.0, -0.0, 2.94631027]], 'pbc': [True, True, True], 'a': 4.038881227215927, 'b': 4.038881227215927, 'c': 2.94631027, 'alpha': 90.0, 'beta': 90.0, 'gamma': 137.95497998182228, 'volume': 32.18772121930709}, 'properties': {}, 'sites': [{'species': [{'element': 'Fe', 'occu': 1}], 'abc': [0.85682226, 0.14317774, 0.75], 'xyz': [1.44888685, -2.69047660736567, 2.2097327025], 'properties': {'magmom': 1.494}, 'label': 'Fe'}, {'species': [{'element': 'Fe', 'occu': 1}], 'abc': [0.14317774, 0.85682226, 0.25], 'xyz': [1.44888685, 2.69047660736567, 0.7365775675], 'properties': {'magmom': 1.494}, 'label': 'Fe'}, {'species': [{'element': 'B', 'occu': 1}], 'abc': [0.5690593, 0.4309407, 0.75], 'xyz': [1.44888685, -0.5207142378702723, 2.2097327025], 'properties': {'magmom': -0.054}, 'label': 'B'}, {'species': [{'element': 'B', 'occu': 1}], 'abc': [0.4309407, 0.5690593, 0.25], 'xyz': [1.44888685, 0.520714237870272, 0.7365775675], 'properties': {'magmom': -0.054}, 'label': 'B'}]}\n",
      "order 2\n",
      "elastic_tensor {'raw': [[345.0091667002123, 149.52976543876784, 170.761217024595, -2.3037127760971994e-15, 3.5527136788005e-15, 2.164934898019055e-15], [149.52976543876784, 469.8181213044113, 194.82113976981702, -1.9984014443252814e-15, 1.6653345369377344e-15, 2.6795630508411486e-14], [170.761217024595, 194.82113976981702, 449.67112141840585, -2.1094237467877974e-15, 3.1086244689504387e-15, 1.6653345369377353e-16], [-2.3037127760971994e-15, -1.9984014443252814e-15, -2.1094237467877974e-15, 186.70038980756658, 0.0, -2.614729197631574e-31], [3.5527136788005e-15, 1.6653345369377344e-15, 3.1086244689504387e-15, 0.0, 203.15297179684194, -8.233517126516254e-15], [2.164934898019055e-15, 2.6795630508411486e-14, 1.6653345369377353e-16, -2.614729197631574e-31, -8.233517126516254e-15, 177.44780800183614]], 'ieee_format': [[450.0, 195.0, 171.0, -0.0, 0.0, 0.0], [195.0, 470.0, 150.0, -0.0, 0.0, 0.0], [171.0, 150.0, 345.0, -0.0, 0.0, 0.0], [-0.0, -0.0, -0.0, 177.0, 0.0, 0.0], [0.0, 0.0, 0.0, 0.0, 203.0, -0.0], [0.0, 0.0, 0.0, 0.0, -0.0, 187.0]]}\n",
      "compliance_tensor {'raw': [[3.7685415119990977, -0.7386968230522637, -1.1110497298767352, 2.6040383479036786e-17, -4.2847196344441154e-17, 6.661241508773745e-17], [-0.7386968230522638, 2.7394270866421384, -0.9063458145449903, 9.967104811921428e-18, 4.330749078293442e-18, -4.038061072449918e-16], [-1.1110497298767352, -0.9063458145449902, 3.0384417935359367, 1.0918986469054131e-17, -1.96342879508793e-17, 1.4756708455390774e-16], [2.604038347903679e-17, 9.96710481192143e-18, 1.0918986469054131e-17, 5.356175212224822, -7.04176846207572e-34, 6.059391853600119e-33], [-4.284719634444116e-17, 4.330749078293446e-18, -1.96342879508793e-17, -7.04176846207572e-34, 4.922399072754028, 2.2839762026617233e-16], [6.661241508773744e-17, -4.038061072449918e-16, 1.4756708455390777e-16, 6.059391853600119e-33, 2.2839762026617233e-16, 5.635459864286701]], 'ieee_format': [[3.0, -1.0, -1.0, -0.0, 0.0, 0.0], [-1.0, 3.0, -1.0, 0.0, 0.0, 0.0], [-1.0, -1.0, 4.0, 0.0, 0.0, 0.0], [-0.0, 0.0, 0.0, 4.0, 0.0, 0.0], [0.0, 0.0, 0.0, 0.0, 4.0, 0.0], [0.0, 0.0, 0.0, 0.0, 0.0, 4.0]]}\n",
      "bulk_modulus {'voigt': 254.969, 'reuss': 247.879, 'vrh': 251.424}\n",
      "shear_modulus {'voigt': 163.419, 'reuss': 154.716, 'vrh': 159.067}\n",
      "sound_velocity {'transverse': 4809.298081508462, 'longitudinal': 8209.60942426694, 'snyder_acoustic': 233.73017165433154, 'snyder_optical': 0.9140579002598616, 'snyder_total': 234.6442295545914}\n",
      "thermal_conductivity {'clarke': 2.2642472886622445, 'cahill': 2.4715552798235216}\n",
      "young_modulus None\n",
      "universal_anisotropy 0.31\n",
      "homogeneous_poisson 0.239\n",
      "debye_temperature 792.218569209917\n",
      "fitting_data {'deformations': [[[1.0, 0.0, 0.0], [0.0, 1.0, -0.01], [0.0, 0.0, 0.9999499987499375]], [[1.0, 0.0, 0.0], [0.0, 0.99498743710662, 0.0], [0.0, 0.0, 1.0]], [[1.0, -0.02, 0.0], [0.0, 0.999799979995999, 0.0], [0.0, 0.0, 1.0]], [[1.0, 0.0, 0.0], [0.0, 1.0, 0.0], [0.0, 0.0, 1.004987562112089]], [[1.0, -0.01, 0.0], [0.0, 0.9999499987499375, 0.0], [0.0, 0.0, 1.0]], [[1.0, 0.0, 0.0], [0.0, 1.0, 0.0], [0.0, 0.0, 0.99498743710662]], [[1.0, 0.0, 0.0], [0.0, 1.0, 0.0], [0.0, 0.0, 1.0099504938362078]], [[1.0, 0.0, 0.0], [0.0, 1.0, -0.02], [0.0, 0.0, 0.999799979995999]], [[0.9899494936611666, 0.0, 0.0], [0.0, 1.0, 0.0], [0.0, 0.0, 1.0]], [[0.99498743710662, 0.0, 0.0], [0.0, 1.0, 0.0], [0.0, 0.0, 1.0]], [[1.0, 0.0, 0.0], [0.0, 1.0, 0.0], [0.0, 0.0, 0.9899494936611666]], [[1.004987562112089, 0.0, 0.0], [0.0, 1.0, 0.0], [0.0, 0.0, 1.0]], [[1.0, 0.0, -0.01], [0.0, 1.0, 0.0], [0.0, 0.0, 0.9999499987499375]], [[1.0099504938362078, 0.0, 0.0], [0.0, 1.0, 0.0], [0.0, 0.0, 1.0]], [[1.0, 0.0, 0.0], [0.0, 1.004987562112089, 0.0], [0.0, 0.0, 1.0]], [[1.0, 0.0, 0.0], [0.0, 1.0099504938362078, 0.0], [0.0, 0.0, 1.0]], [[1.0, 0.0, -0.02], [0.0, 1.0, 0.0], [0.0, 0.0, 0.999799979995999]], [[1.0, 0.0, 0.0], [0.0, 0.9899494936611666, 0.0], [0.0, 0.0, 1.0]]], 'strains': [[[0.0, 0.0, 0.0], [0.0, 0.0, -0.005], [0.0, -0.005, 0.0]], [[0.0, 0.0, 0.0], [0.0, -0.0050000000000000044, 0.0], [0.0, 0.0, 0.0]], [[0.0, -0.01, 0.0], [-0.01, 0.0, 0.0], [0.0, 0.0, 0.0]], [[0.0, 0.0, 0.0], [0.0, 0.0, 0.0], [0.0, 0.0, 0.004999999999999893]], [[0.0, -0.005, 0.0], [-0.005, 0.0, 0.0], [0.0, 0.0, 0.0]], [[0.0, 0.0, 0.0], [0.0, 0.0, 0.0], [0.0, 0.0, -0.0050000000000000044]], [[0.0, 0.0, 0.0], [0.0, 0.0, 0.0], [0.0, 0.0, 0.010000000000000009]], [[0.0, 0.0, 0.0], [0.0, 0.0, -0.01], [0.0, -0.01, 0.0]], [[-0.009999999999999953, 0.0, 0.0], [0.0, 0.0, 0.0], [0.0, 0.0, 0.0]], [[-0.0050000000000000044, 0.0, 0.0], [0.0, 0.0, 0.0], [0.0, 0.0, 0.0]], [[0.0, 0.0, 0.0], [0.0, 0.0, 0.0], [0.0, 0.0, -0.009999999999999953]], [[0.004999999999999893, 0.0, 0.0], [0.0, 0.0, 0.0], [0.0, 0.0, 0.0]], [[0.0, 0.0, -0.005], [0.0, 0.0, 0.0], [-0.005, 0.0, 0.0]], [[0.010000000000000009, 0.0, 0.0], [0.0, 0.0, 0.0], [0.0, 0.0, 0.0]], [[0.0, 0.0, 0.0], [0.0, 0.004999999999999893, 0.0], [0.0, 0.0, 0.0]], [[0.0, 0.0, 0.0], [0.0, 0.010000000000000009, 0.0], [0.0, 0.0, 0.0]], [[0.0, 0.0, -0.01], [0.0, 0.0, 0.0], [-0.01, 0.0, 0.0]], [[0.0, 0.0, 0.0], [0.0, -0.009999999999999953, 0.0], [0.0, 0.0, 0.0]]], 'cauchy_stresses': [[[0.038996857, -0.0, -0.0], [-0.0, 0.053042908, -1.867337812], [-0.0, -1.867339059, -0.000290885]], [[-0.899011758, -0.0, -0.0], [0.0, -2.24939633, -0.0], [-0.0, -0.0, -1.07305255]], [[0.036649202, -3.549846789, -0.0], [-3.5498490040000004, -0.068593576, -0.0], [-0.0, -0.0, 0.063437159]], [[1.053840901, -0.0, -0.0], [0.0, 0.9404889020000001, 0.0], [-0.0, -0.0, 2.361356665]], [[0.0042177130000000005, -1.774590983, -0.0], [-1.7745919910000003, -0.01692043, -0.0], [-0.0, -0.0, 0.012596061]], [[-0.8377568580000001, -0.0, -0.0], [-0.0, -0.686249106, -0.0], [-0.0, -0.0, -2.184248321]], [[1.958797036, 0.0, -0.0], [0.0, 1.739440896, 0.0], [-0.0, -0.0, 4.521467391000001]], [[-0.03832503500000001, -0.0, -0.0], [-0.0, -0.008391975000000001, -3.732593714], [-0.0, -3.732596219, -0.20576566000000002]], [[-3.9889173970000003, -0.0, -0.0], [-0.0, -1.538335511, -0.0], [-0.0, -0.0, -2.2269069630000002]], [[-1.837924412, -0.0, -0.0], [0.0, -0.60824466, -0.0], [-0.0, 0.0, -0.9257236710000001]], [[-2.096051888, -0.0, -0.0], [-0.0, -1.803382525, -0.0], [-0.0, -0.0, -4.852664883]], [[1.736545787, -0.0, -0.0], [0.0, 0.514684621, 0.0], [-0.0, 0.0, 0.775959394]], [[-0.08398625600000001, -0.0, -2.031294867], [-0.0, -0.05550143600000001, -0.0], [-2.03133201, -0.0, -0.125157274]], [[3.9094419580000004, 0.0, -0.0], [0.0, 1.504605409, 0.0], [-0.0, -0.0, 1.9796961199999998]], [[0.925602382, -0.0, -0.0], [-0.0, 2.284577908, 0.0], [-0.0, -0.0, 1.068947111]], [[1.355494117, 0.0, -0.0], [0.0, 4.094330838, -0.0], [-0.0, 0.0, 1.610553058]], [[-0.298087447, -0.0, -4.061499615000001], [-0.0, -0.2330767, -0.0], [-4.061573666, -0.0, -0.495760257]], [[-1.234778704, -0.0, -0.0], [0.0, -3.9881777940000003, 0.0], [-0.0, -0.0, -1.628777567]]], 'second_pk_stresses': [[[0.03899490710840149, 0.0, 0.0], [0.0, 0.015693457988338513, -1.8673407209954536], [0.0, -1.8673419679954537, -0.0002908995453409097]], [[-0.8945054050211368, 0.0, 0.0], [0.0, -2.26072837315529, 0.0], [0.0, 0.0, -1.0676738066052234]], [[-0.10537948735306353, -3.5512189349766436, 0.0], [-3.551221149976644, -0.06860729883218691, 0.0], [0.0, 0.0, 0.06342447029920302]], [[1.0590969979499973, 0.0, 0.0], [0.0, 0.9451796488144555, 0.0], [0.0, 0.0, 2.3496377010252316]], [[-0.03127601975853091, -1.7747601957608496, 0.0], [-1.7747612037608502, -0.0169212760849569, 0.0], [0.0, 0.0, 0.012595431181204137]], [[-0.8335575490599146, 0.0, 0.0], [0.0, -0.6828092391956492, 0.0], [0.0, 0.0, -2.195252160521443]], [[1.9782880338331001, 0.0, 0.0], [0.0, 1.7567491919140958, 0.0], [0.0, 0.0, 4.476919827847804]], [[-0.03831736922634597, 0.0, 0.0], [0.0, -0.15777641782731971, -3.7367098505096408], [0.0, -3.7367123555096406, -0.20580682548205634]], [[-4.029415058588131, 0.0, 0.0], [0.0, -1.522874460195442, 0.0], [0.0, 0.0, -2.2045254204523763]], [[-1.8471835356480522, 0.0, 0.0], [0.0, -0.6051957953871875, 0.0], [0.0, 0.0, -0.9210834228772219]], [[-2.074985505213132, 0.0, 0.0], [0.0, -1.785257617501146, 0.0], [0.0, 0.0, -4.901931779421606]], [[1.7279276405674748, 0.0, 0.0], [0.0, 0.5172516425153745, 0.0], [0.0, 0.0, 0.7798295396740339]], [[-0.12462084170544524, 0.0, -2.032546502323331], [0.0, -0.05549866085881974, 0.0], [-2.032583645323331, 0.0, -0.12516353233307892]], [[3.870924349123619, 0.0, 0.0], [0.0, 1.5195769758481794, 0.0], [0.0, 0.0, 1.9993950740396245]], [[0.9302188813713225, 0.0, 0.0], [0.0, 2.2732399823921354, 0.0], [0.0, 0.0, 1.0742785511106505]], [[1.3689819528562246, 0.0, 0.0], [0.0, 4.053991619379328, 0.0], [0.0, 0.0, 1.6265788562765147]], [[-0.4606876329431812, 0.0, -4.071416803776139], [0.0, -0.23303007999753347, 0.0], [-4.071490854776139, 0.0, -0.49585943880693406]], [[-1.2223685528083914, 0.0, 0.0], [0.0, -4.028667946735722, 0.0], [0.0, 0.0, -1.6124075277383167]]], 'deformation_tasks': ['mp-2785530', 'mp-2785570', 'mp-2785594', 'mp-2785595', 'mp-2785623', 'mp-2785667', 'mp-2785692', 'mp-2785727', 'mp-2785735', 'mp-2785749', 'mp-2785785', 'mp-2785794', 'mp-2785801', 'mp-2785827', 'mp-2785856', 'mp-2785859', 'mp-2805809', 'mp-2805822'], 'deformation_dir_names': ['login16.chn:/pscratch/sd/t/tsm/mjwen-elastic-tasks-2022-reparse/block_2021-07-30-16-05-00-149869/launcher_2021-07-30-18-07-24-976711', 'login16.chn:/pscratch/sd/t/tsm/mjwen-elastic-tasks-2022-reparse/block_2021-07-30-16-05-00-149869/launcher_2021-07-30-18-07-57-480924', 'login16.chn:/pscratch/sd/t/tsm/mjwen-elastic-tasks-2022-reparse/block_2021-07-30-16-05-00-149869/launcher_2021-07-30-18-07-16-316001', 'login16.chn:/pscratch/sd/t/tsm/mjwen-elastic-tasks-2022-reparse/block_2021-07-30-16-05-00-149869/launcher_2021-07-30-18-07-32-196200', 'login16.chn:/pscratch/sd/t/tsm/mjwen-elastic-tasks-2022-reparse/block_2021-07-30-16-05-00-149869/launcher_2021-07-30-18-07-10-385843', 'login16.chn:/pscratch/sd/t/tsm/mjwen-elastic-tasks-2022-reparse/block_2021-07-30-16-05-00-149869/launcher_2021-07-30-18-07-35-801608', 'login16.chn:/pscratch/sd/t/tsm/mjwen-elastic-tasks-2022-reparse/block_2021-07-30-16-05-00-149869/launcher_2021-07-30-18-07-30-084147', 'login16.chn:/pscratch/sd/t/tsm/mjwen-elastic-tasks-2022-reparse/block_2021-07-30-16-05-00-149869/launcher_2021-07-30-18-07-26-560417', 'login16.chn:/pscratch/sd/t/tsm/mjwen-elastic-tasks-2022-reparse/block_2021-07-30-16-05-00-149869/launcher_2021-07-30-18-08-13-479337', 'login16.chn:/pscratch/sd/t/tsm/mjwen-elastic-tasks-2022-reparse/block_2021-07-30-16-05-00-149869/launcher_2021-07-30-18-08-17-230530', 'login16.chn:/pscratch/sd/t/tsm/mjwen-elastic-tasks-2022-reparse/block_2021-07-30-16-05-00-149869/launcher_2021-07-30-18-07-41-205220', 'login16.chn:/pscratch/sd/t/tsm/mjwen-elastic-tasks-2022-reparse/block_2021-07-30-16-05-00-149869/launcher_2021-07-30-18-08-07-237056', 'login16.chn:/pscratch/sd/t/tsm/mjwen-elastic-tasks-2022-reparse/block_2021-07-30-16-05-00-149869/launcher_2021-07-30-18-07-19-780681', 'login16.chn:/pscratch/sd/t/tsm/mjwen-elastic-tasks-2022-reparse/block_2021-07-30-16-05-00-149869/launcher_2021-07-30-18-08-06-940780', 'login16.chn:/pscratch/sd/t/tsm/mjwen-elastic-tasks-2022-reparse/block_2021-07-30-16-05-00-149869/launcher_2021-07-30-18-07-46-349981', 'login16.chn:/pscratch/sd/t/tsm/mjwen-elastic-tasks-2022-reparse/block_2021-07-30-16-05-00-149869/launcher_2021-07-30-18-07-42-863433', 'login16.chn:/pscratch/sd/t/tsm/mjwen-elastic-tasks-2022-reparse/block_2021-07-30-16-05-00-149869/launcher_2021-07-30-18-07-21-489158', 'login16.chn:/pscratch/sd/t/tsm/mjwen-elastic-tasks-2022-reparse/block_2021-07-30-16-05-00-149869/launcher_2021-07-30-18-07-57-492318'], 'equilibrium_cauchy_stress': [[0.014273955999999999, -0.0, -0.0], [-0.0, 0.014338370000000001, 0.0], [-0.0, -0.0, 0.004776521000000001]], 'optimization_task': 'mp-2785522', 'optimization_dir_name': 'cori02:/global/cscratch1/sd/huck/mjwen-elastic-tasks-2022/block_2021-07-30-16-05-00-149869/launcher_2021-07-30-17-05-02-514308', 'num_total_strain_stress_states': 24}\n",
      "fitting_method finite_difference\n",
      "state successful\n",
      "fields_not_requested []\n",
      "@module mp_api.client.core.client\n",
      "@class MPDataDoc\n",
      "@version None\n",
      "description The material FeB with a reduced composition of {'Fe': 1.0, 'B': 1.0} exhibits a density of 6.877 g/cm^3 and a density per atom of 8.047 g/cm^3. The information about the elements contained in the material is as follows. B has an electronegativity of 2.04, an ionization energy of 8.298 eV, a bulk modulus of 320.0 GPa, an atomic radius of 0.87 Å. Fe has an electronegativity of 1.83, an ionization energy of 7.902 eV, a bulk modulus of 170.0 GPa, a Young's modulus of 211.0 GPa, a Poisson's ratio of 0.29, an atomic radius of 1.56 Å. FeB crystallizes in the orthorhombic Cmcm space group. Fe(1)3+ is bonded in a 7-coordinate geometry to seven equivalent B(1)3- atoms. There are a spread of Fe(1)-B(1) bond distances ranging from 2.14-2.17 Å. B(1)3- is bonded in a 9-coordinate geometry to seven equivalent Fe(1)3+ and two equivalent B(1)3- atoms. Both B(1)-B(1) bond lengths are 1.80 Å.\n"
     ]
    }
   ],
   "source": [
    "for k, v in data[0].items():\n",
    "    print(k, v)"
   ]
  },
  {
   "cell_type": "code",
   "execution_count": 2,
   "metadata": {},
   "outputs": [],
   "source": [
    "def construct_datapoint(raw_datapoint: dict):\n",
    "    dic = {}\n",
    "    dic['crystal system'] : str = raw_datapoint['symmetry']['crystal_system']\n",
    "    dic['description'] : str = raw_datapoint['description']\n",
    "    # Extract the elastic tensor\n",
    "    dic['elastic tensor'] : list or None = raw_datapoint['elastic_tensor']['ieee_format'] if raw_datapoint['elastic_tensor']['ieee_format'] else None\n",
    "    # Traverse the 6x6 2D array elastic_tensor and change all -0.0 to 0.0\n",
    "    if dic['elastic tensor']:\n",
    "        for i in range(6):\n",
    "            for j in range(6):\n",
    "                if dic['elastic tensor'][i][j] == -0.0:\n",
    "                    dic['elastic tensor'][i][j] = 0.0\n",
    "    # Extract other elasticity properties\n",
    "    dic['bulk modulus'] : dict or None = raw_datapoint['bulk_modulus'] if raw_datapoint['bulk_modulus'] else None\n",
    "    dic['shear modulus'] : dict or None = raw_datapoint['shear_modulus'] if raw_datapoint['shear_modulus'] else None\n",
    "    dic['young modulus'] : float or None = raw_datapoint['young_modulus'] if raw_datapoint['young_modulus'] else None\n",
    "    dic['universal anisotropy'] : float or None = raw_datapoint['universal_anisotropy'] if raw_datapoint['universal_anisotropy'] else None\n",
    "    dic['isotropic possion ratio'] : float or None = raw_datapoint['homogeneous_poisson'] if raw_datapoint['homogeneous_poisson'] else None\n",
    "\n",
    "    return dic"
   ]
  },
  {
   "cell_type": "code",
   "execution_count": 3,
   "metadata": {},
   "outputs": [],
   "source": [
    "def construct_dataset(raw_data):\n",
    "    dataset = [construct_datapoint(data) for data in raw_data]\n",
    "    print(f\"Dataset constructed with {len(dataset)} data points\")\n",
    "    return dataset\n",
    "\n",
    "def store_dataset(dataset, stored_file_name):\n",
    "    with open(stored_file_name, 'w') as f:\n",
    "        json.dump(dataset, f, indent=2)\n",
    "    return print(f\"Dataset stored in {stored_file_name}\")"
   ]
  },
  {
   "cell_type": "code",
   "execution_count": 4,
   "metadata": {},
   "outputs": [
    {
     "name": "stdout",
     "output_type": "stream",
     "text": [
      "Dataset constructed with 12127 data points\n",
      "Dataset stored in mp_only_desc_elasticity.json\n"
     ]
    }
   ],
   "source": [
    "combined_dataset = construct_dataset(data)\n",
    "store_dataset(combined_dataset, 'mp_only_desc_elasticity.json')"
   ]
  },
  {
   "cell_type": "code",
   "execution_count": 8,
   "metadata": {},
   "outputs": [],
   "source": [
    "#build_alpaca\n",
    "import json\n",
    "\n",
    "with open('mp_only_desc_elasticity.json') as f:\n",
    "    origin_data = json.load(f)"
   ]
  },
  {
   "cell_type": "code",
   "execution_count": 9,
   "metadata": {},
   "outputs": [
    {
     "name": "stdout",
     "output_type": "stream",
     "text": [
      "Original data length 12127\n",
      "[53, 74, 159, 247, 338, 450, 488, 542, 552, 690, 719, 788, 901, 1044, 1079, 1097, 1154, 1210, 1216, 1229, 1302, 1381, 1399, 1466, 1477, 1520, 1529, 1556, 1564, 1604, 1629, 1649, 1717, 1822, 1920, 1925, 1941, 2025, 2195, 2222, 2232, 2257, 2521, 2571, 2590, 2676, 2692, 2818, 2831, 2893, 2946, 2980, 2985, 3026, 3045, 3060, 3124, 3210, 3215, 3221, 3230, 3251, 3265, 3273, 3352, 3423, 3451, 3504, 3568, 3626, 3739, 3787, 3791, 3792, 3859, 3935, 3988, 4013, 4024, 4032, 4039, 4169, 4174, 4211, 4255, 4304, 4305, 4436, 4507, 4516, 4534, 4579, 4600, 4607, 4648, 4652, 4740, 4767, 4912, 4981, 5005, 5051, 5061, 5142, 5337, 5340, 5431, 5488, 5525, 5553, 5626, 5653, 5715, 5745, 5798, 5855, 6025, 6027, 6091, 6113, 6153, 6172, 6251, 6355, 6416, 6423, 6454, 6457, 6470, 6510, 6516, 6534, 6582, 6595, 6615, 6619, 6674, 6705, 6718, 6746, 6747, 6750, 6758, 6767, 6771, 6791, 6860, 6885, 6893, 6943, 6944, 6990, 7035, 7189, 7197, 7198, 7199, 7208, 7210, 7272, 7282, 7365, 7401, 7407, 7557, 7560, 7574, 7633, 7691, 7778, 7800, 7813, 7817, 7822, 7844, 7871, 7880, 7886, 7908, 7956, 7957, 8006, 8052, 8061, 8107, 8113, 8156, 8165, 8169, 8180, 8205, 8238, 8248, 8251, 8333, 8338, 8375, 8378, 8400, 8445, 8601, 8605, 8608, 8610, 8688, 8697, 8742, 8744, 8803, 8843, 8859, 8860, 8908, 8996, 9033, 9053, 9071, 9099, 9121, 9130, 9153, 9157, 9171, 9199, 9207, 9210, 9219, 9221, 9291, 9301, 9320, 9323, 9326, 9344, 9347, 9362, 9371, 9406, 9466, 9469, 9523, 9537, 9566, 9572, 9575, 9598, 9644, 9669, 9711, 9728, 9754, 9768, 9781, 9860, 9874, 9912, 9973, 10008, 10036, 10050, 10149, 10167, 10176, 10182, 10215, 10250, 10256, 10269, 10279, 10282, 10305, 10355, 10391, 10433, 10486, 10533, 10569, 10585, 10615, 10617, 10637, 10681, 10685, 10710, 10766, 10804, 10932, 11003, 11016, 11136, 11170, 11188, 11189, 11190, 11191, 11193, 11208, 11221, 11272, 11301, 11307, 11336, 11377, 11403, 11411, 11412, 11415, 11459, 11465, 11495, 11522, 11528, 11535, 11536, 11537, 11551, 11559, 11573, 11581, 11607, 11646, 11681, 11702, 11747, 11748, 11760, 11772, 11808, 11911, 11949, 11966, 11983, 12013, 12032, 12044, 12072, 12097, 12098, 12101, 12123]\n",
      "340\n",
      "After removing data length 11787\n",
      "Original data length 11787\n",
      "Deleted data with bulk_modulus or shear_modulus abnormality 10520\n"
     ]
    }
   ],
   "source": [
    "from pymatgen.analysis.elasticity import ElasticTensor\n",
    "import numpy as np\n",
    "\n",
    "print(\"Original data length\", len(origin_data))\n",
    "id_list = []\n",
    "for i in range(len(origin_data)):\n",
    "    try:\n",
    "        elastic_constant = np.asarray(origin_data[i]['elastic tensor'])\n",
    "        elastic_tensor = ElasticTensor.from_voigt(elastic_constant)\n",
    "        y_m = round(elastic_tensor.y_mod / 1e9, 3)\n",
    "    except Exception as e:\n",
    "        id_list.append(i)\n",
    "\n",
    "print(id_list)\n",
    "print(len(id_list))\n",
    "\n",
    "for index in sorted(id_list, reverse=True):\n",
    "    del origin_data[index]\n",
    "\n",
    "print(\"After removing data length\", len(origin_data))\n",
    "\n",
    "def calculate_properties(stiffness_matrix: list) -> (float, float, float):\n",
    "    elastic_constant = np.asarray(stiffness_matrix)\n",
    "    elastic_tensor = ElasticTensor.from_voigt(elastic_constant)\n",
    "    youngs_modulus = round(elastic_tensor.y_mod / 1e9, 3)\n",
    "    return youngs_modulus\n",
    "\n",
    "# Delete data with abnormal bulk modulus and shear modulus\n",
    "print(\"Original data length\", len(origin_data))\n",
    "delete_index = []\n",
    "for i in range(len(origin_data)):\n",
    "    if origin_data[i]['bulk modulus'] == None or origin_data[i]['shear modulus'] == None:\n",
    "        delete_index.append(i)\n",
    "    elif any(value < 0 for value in origin_data[i]['bulk modulus'].values()) or any(value > 1000 for value in origin_data[i]['bulk modulus'].values()):\n",
    "        delete_index.append(i)\n",
    "    elif any(value < 0 for value in origin_data[i]['shear modulus'].values()) or any(value > 1000 for value in origin_data[i]['shear modulus'].values()):\n",
    "        delete_index.append(i)\n",
    "\n",
    "for index in sorted(delete_index, reverse=True):\n",
    "    del origin_data[index]\n",
    "\n",
    "print(\"Deleted data with bulk_modulus or shear_modulus abnormality\", len(origin_data))\n",
    "\n",
    "with open('delete_abnormality.jsonl', 'w') as f:\n",
    "    for item in origin_data:\n",
    "        json.dump(item, f)\n",
    "        f.write('\\n')"
   ]
  },
  {
   "cell_type": "code",
   "execution_count": 12,
   "metadata": {},
   "outputs": [],
   "source": [
    "with open('delete_abnormality.jsonl', 'r') as f:\n",
    "    after_deleted_data = [json.loads(line) for line in f]\n",
    "\n",
    "bulk_modulus = [item['bulk modulus']['vrh'] for item in after_deleted_data]\n",
    "shear_modulus = [item['shear modulus']['vrh'] for item in after_deleted_data]\n",
    "young_modulus = [calculate_properties(item['elastic tensor']) for item in after_deleted_data]\n",
    "\n",
    "for i in range(len(after_deleted_data)):\n",
    "    after_deleted_data[i]['young modulus'] = young_modulus[i]\n",
    "\n",
    "with open('delete_abnormality_and_addyoung.jsonl', 'w') as f:\n",
    "    for item in after_deleted_data:\n",
    "        json.dump(item, f)\n",
    "        f.write('\\n')"
   ]
  },
  {
   "cell_type": "code",
   "execution_count": 13,
   "metadata": {},
   "outputs": [
    {
     "name": "stdout",
     "output_type": "stream",
     "text": [
      "Crystal structures: 7\n",
      "Crystal structure values count: {'Monoclinic': 572, 'Orthorhombic': 1386, 'Hexagonal': 1471, 'Triclinic': 66, 'Cubic': 4175, 'Trigonal': 814, 'Tetragonal': 2036}\n",
      "5% for each crystal_system: {'Monoclinic': 28, 'Orthorhombic': 69, 'Hexagonal': 73, 'Triclinic': 3, 'Cubic': 208, 'Trigonal': 40, 'Tetragonal': 101}\n"
     ]
    }
   ],
   "source": [
    "import json\n",
    "with open('delete_abnormality_and_addyoung.jsonl', 'r') as f:\n",
    "    data = [json.loads(line) for line in f]\n",
    "\n",
    "import math\n",
    "crystal_structure_data = [item['crystal system'] for item in data]\n",
    "crystal_structure_set = set(crystal_structure_data)\n",
    "crystal_structure_count = len(crystal_structure_set)\n",
    "crystal_structure_values_count = {structure: crystal_structure_data.count(structure) for structure in crystal_structure_set}\n",
    "print(f'Crystal structures: {crystal_structure_count}')\n",
    "print(f'Crystal structure values count: {crystal_structure_values_count}')\n",
    "csv_p5 = {k: math.floor(v*0.05) for k, v in crystal_structure_values_count.items() if v >= 5}\n",
    "print(f'5% for each crystal_system: {csv_p5}')\n",
    "\n",
    "for k, v in csv_p5.items():\n",
    "    for item in data:\n",
    "        if item['crystal system'] == k:\n",
    "            item['label'] = 'test'\n",
    "            v -= 1\n",
    "            if v == 0:\n",
    "                break\n",
    "\n",
    "for item in data:\n",
    "    if 'label' not in item:\n",
    "        item['label'] = 'train'\n",
    "\n",
    "alpaca_train = []\n",
    "alpaca_test = []\n",
    "def build_alpaca(datapoint):\n",
    "    dic = dict()\n",
    "    dic['instruction'] = f\"{datapoint}\"\n",
    "    dic['input'] = \"\"\n",
    "    dic['output'] = \"\"\n",
    "    return dic\n",
    "\n",
    "for item in data:\n",
    "    if item['label'] == 'train':\n",
    "        alpaca_train.append(build_alpaca(item))\n",
    "        del item['label']\n",
    "    else:\n",
    "        alpaca_test.append(build_alpaca(item))\n",
    "        del item['label']\n",
    "\n",
    "with open('formula_elasticity_dataset.json', 'w') as f:\n",
    "    json.dump(alpaca_train, f)"
   ]
  },
  {
   "cell_type": "code",
   "execution_count": 14,
   "metadata": {},
   "outputs": [],
   "source": [
    "for k, v in csv_p5.items():\n",
    "    for item in data:\n",
    "        if item['crystal system'] == k:\n",
    "            item['label'] = 'test'\n",
    "            v -= 1\n",
    "            if v == 0:\n",
    "                break\n",
    "\n",
    "for item in data:\n",
    "    if 'label' not in item:\n",
    "        item['label'] = 'train'"
   ]
  },
  {
   "cell_type": "code",
   "execution_count": 15,
   "metadata": {},
   "outputs": [
    {
     "name": "stdout",
     "output_type": "stream",
     "text": [
      "crystal system Orthorhombic\n",
      "description The material FeB with a reduced composition of {'Fe': 1.0, 'B': 1.0} exhibits a density of 6.877 g/cm^3 and a density per atom of 8.047 g/cm^3. The information about the elements contained in the material is as follows. B has an electronegativity of 2.04, an ionization energy of 8.298 eV, a bulk modulus of 320.0 GPa, an atomic radius of 0.87 Å. Fe has an electronegativity of 1.83, an ionization energy of 7.902 eV, a bulk modulus of 170.0 GPa, a Young's modulus of 211.0 GPa, a Poisson's ratio of 0.29, an atomic radius of 1.56 Å. FeB crystallizes in the orthorhombic Cmcm space group. Fe(1)3+ is bonded in a 7-coordinate geometry to seven equivalent B(1)3- atoms. There are a spread of Fe(1)-B(1) bond distances ranging from 2.14-2.17 Å. B(1)3- is bonded in a 9-coordinate geometry to seven equivalent Fe(1)3+ and two equivalent B(1)3- atoms. Both B(1)-B(1) bond lengths are 1.80 Å.\n",
      "elastic tensor [[450.0, 195.0, 171.0, 0.0, 0.0, 0.0], [195.0, 470.0, 150.0, 0.0, 0.0, 0.0], [171.0, 150.0, 345.0, 0.0, 0.0, 0.0], [0.0, 0.0, 0.0, 177.0, 0.0, 0.0], [0.0, 0.0, 0.0, 0.0, 203.0, 0.0], [0.0, 0.0, 0.0, 0.0, 0.0, 187.0]]\n",
      "bulk modulus {'voigt': 254.969, 'reuss': 247.879, 'vrh': 251.424}\n",
      "shear modulus {'voigt': 163.419, 'reuss': 154.716, 'vrh': 159.067}\n",
      "young modulus 393.981\n",
      "universal anisotropy 0.31\n",
      "isotropic possion ratio 0.239\n",
      "label test\n"
     ]
    }
   ],
   "source": [
    "for k, v in data[0].items():\n",
    "    print(k, v)"
   ]
  },
  {
   "cell_type": "code",
   "execution_count": 17,
   "metadata": {},
   "outputs": [],
   "source": [
    "#构建alpaca数据集\n",
    "def build_alpaca_dataset(data):\n",
    "    train_dataset = []\n",
    "    test_dataset = []\n",
    "    instruction = \"Given a material description, predict the elastic tensor of it directly and accurately with scientific logic. Answer without any other comments, descriptions, or explanations. The answer should be a 6x6 Python matrix. \"\n",
    "    for item in data:\n",
    "        label = item['label']\n",
    "        input_item = item['description']\n",
    "        output_item = f\"{item['elastic tensor']}\"\n",
    "        if label == 'test':\n",
    "            test_dataset.append({\n",
    "                'instruction': instruction,\n",
    "                'input': input_item,\n",
    "                'output': output_item,\n",
    "            })\n",
    "        else:\n",
    "            train_dataset.append({\n",
    "                'instruction': instruction,\n",
    "                'input': input_item,\n",
    "                'output': output_item,\n",
    "            })\n",
    "    return train_dataset, test_dataset"
   ]
  },
  {
   "cell_type": "code",
   "execution_count": 18,
   "metadata": {},
   "outputs": [],
   "source": [
    "tr, te = build_alpaca_dataset(data)\n",
    "\n",
    "with open('ec_desc_train_dataset.json', 'w') as file:\n",
    "    json.dump(tr, file)\n",
    "\n",
    "with open('ec_desc_test_dataset.json', 'w') as file:\n",
    "    json.dump(te, file)"
   ]
  }
 ],
 "metadata": {
  "kernelspec": {
   "display_name": "llm",
   "language": "python",
   "name": "python3"
  },
  "language_info": {
   "codemirror_mode": {
    "name": "ipython",
    "version": 3
   },
   "file_extension": ".py",
   "mimetype": "text/x-python",
   "name": "python",
   "nbconvert_exporter": "python",
   "pygments_lexer": "ipython3",
   "version": "3.10.12"
  }
 },
 "nbformat": 4,
 "nbformat_minor": 2
}
