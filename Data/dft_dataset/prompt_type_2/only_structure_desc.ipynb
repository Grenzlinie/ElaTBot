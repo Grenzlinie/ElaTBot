{
 "cells": [
  {
   "cell_type": "code",
   "execution_count": 1,
   "metadata": {},
   "outputs": [],
   "source": [
    "#添加basic特征\n",
    "import json\n",
    "with open(\"mp_elastic_with_desc.json\") as f:\n",
    "    data = json.load(f)"
   ]
  },
  {
   "cell_type": "code",
   "execution_count": 2,
   "metadata": {},
   "outputs": [
    {
     "name": "stdout",
     "output_type": "stream",
     "text": [
      "builder_meta {'emmet_version': '0.71.1', 'pymatgen_version': '2023.10.4', 'pull_request': 990, 'database_version': '2023.11.1', 'build_date': '2023-10-20 07:05:00.912000', 'license': None}\n",
      "nsites 3\n",
      "elements ['Nb', 'Pd']\n",
      "nelements 2\n",
      "composition {'Nb': 1.0, 'Pd': 2.0}\n",
      "composition_reduced {'Nb': 1.0, 'Pd': 2.0}\n",
      "formula_pretty NbPd2\n",
      "formula_anonymous AB2\n",
      "chemsys Nb-Pd\n",
      "volume 48.113747937927926\n",
      "density 10.552156716548524\n",
      "density_atomic 16.037915979309307\n",
      "symmetry {'crystal_system': 'Orthorhombic', 'symbol': 'Immm', 'number': 71, 'point_group': 'mmm', 'symprec': 0.1, 'version': '1.16.5'}\n",
      "property_name elasticity\n",
      "material_id mp-1018151\n",
      "deprecated False\n",
      "deprecation_reasons None\n",
      "last_updated 2023-10-20 07:05:00.913000\n",
      "origins []\n",
      "warnings []\n",
      "structure {'@module': 'pymatgen.core.structure', '@class': 'Structure', 'charge': 0.0, 'lattice': {'matrix': [[-1.42880075, 1.98263577, 4.24614275], [1.42880075, -1.98263577, 4.24614275], [1.42880075, 1.98263577, -4.24614275]], 'pbc': [True, True, True], 'a': 4.899188140198498, 'b': 4.899188140198498, 'c': 4.899188140198498, 'alpha': 146.0876308780882, 'beta': 132.25702178777323, 'gamma': 59.844444345886096, 'volume': 48.113747937927926}, 'properties': {}, 'sites': [{'species': [{'element': 'Nb', 'occu': 1}], 'abc': [0.0, 0.0, 0.0], 'xyz': [0.0, 0.0, 0.0], 'properties': {'magmom': -0.0}, 'label': 'Nb'}, {'species': [{'element': 'Pd', 'occu': 1}], 'abc': [0.66605128, 0.66605128, -0.0], 'xyz': [1.3584920339724248e-17, 8.578025367481814e-17, 5.6562976274004395], 'properties': {'magmom': 0.0}, 'label': 'Pd'}, {'species': [{'element': 'Pd', 'occu': 1}], 'abc': [0.33394872, 0.33394872, 0.0], 'xyz': [-1.3584920339724248e-17, 2.524204878769751e-17, 2.8359878725995595], 'properties': {'magmom': 0.0}, 'label': 'Pd'}]}\n",
      "order 2\n",
      "elastic_tensor {'raw': [[282.0964925512404, 180.92131346582033, 98.27711341429195, -6.661338147750937e-16, -2.109423746787797e-15, -1.5543122344752188e-15], [180.92131346582033, 269.8702845790877, 162.17472370542828, 6.661338147750937e-16, 0.0, 1.594761351501867e-14], [98.27711341429195, 162.17472370542828, 324.5364514718981, 3.108624468950439e-15, -1.1102230246251542e-16, 1.3322676295501878e-15], [-6.661338147750937e-16, 6.661338147750937e-16, 3.108624468950439e-15, 118.48102601469499, 0.0, 0.0], [-2.109423746787797e-15, 0.0, -1.1102230246251542e-16, 0.0, 49.31539853737253, -1.3794677297864987e-15], [-1.5543122344752188e-15, 1.594761351501867e-14, 1.3322676295501878e-15, 0.0, -1.3794677297864987e-15, 110.84947821775118]], 'ieee_format': [[270.0, 162.0, 181.0, -0.0, -0.0, 0.0], [162.0, 325.0, 98.0, -0.0, -0.0, 0.0], [181.0, 98.0, 282.0, -0.0, -0.0, 0.0], [-0.0, -0.0, -0.0, 49.0, 0.0, -0.0], [-0.0, -0.0, -0.0, 0.0, 111.0, -0.0], [0.0, 0.0, 0.0, -0.0, -0.0, 118.0]]}\n",
      "compliance_tensor {'raw': [[6.237282879452198, -4.35388696866629, 0.28689615241953076, 5.2019164432578515e-17, 2.674402901309572e-16, 7.103918806201493e-16], [-4.353886968666291, 8.334975637707206, -2.8466291645640083, 3.3475454694476735e-18, -1.9264230176385834e-16, -1.2259669617382694e-15], [0.2868961524195308, -2.8466291645640083, 4.416933648113325, -9.827093193567499e-17, 2.2215448576031716e-17, 3.604737781176635e-16], [5.2019164432578515e-17, 3.3475454694476824e-18, -9.8270931935675e-17, 8.44016998870327, 2.003840555777237e-33, 1.4288911993479878e-33], [2.674402901309572e-16, -1.9264230176385834e-16, 2.221544857603172e-17, 2.0038405557772367e-33, 20.277642068372888, 2.523453724746728e-16], [7.103918806201493e-16, -1.2259669617382692e-15, 3.6047377811766357e-16, 1.4288911993479878e-33, 2.523453724746728e-16, 9.021242283482957]], 'ieee_format': [[8.0, -3.0, -4.0, -0.0, 0.0, -0.0], [-3.0, 4.0, 0.0, 0.0, -0.0, -0.0], [-4.0, 0.0, 6.0, 0.0, -0.0, 0.0], [-0.0, 0.0, 0.0, 20.0, -0.0, 0.0], [0.0, -0.0, -0.0, -0.0, 8.0, 0.0], [-0.0, -0.0, 0.0, 0.0, 0.0, 8.0]]}\n",
      "bulk_modulus {'voigt': 195.472, 'reuss': 193.725, 'vrh': 194.599}\n",
      "shear_modulus {'voigt': 84.738, 'reuss': 69.179, 'vrh': 76.958}\n",
      "sound_velocity {'transverse': 2700.615519890736, 'longitudinal': 5307.2089726386375, 'snyder_acoustic': 107.63886286986988, 'snyder_optical': 0.2872716466179801, 'snyder_total': 107.92613451648786}\n",
      "thermal_conductivity {'clarke': 0.8304032649837914, 'cahill': 0.9373686841801743}\n",
      "young_modulus None\n",
      "universal_anisotropy 1.134\n",
      "homogeneous_poisson 0.325\n",
      "debye_temperature 357.28637164435406\n",
      "fitting_data {'deformations': [[[1.0, 0.0, 0.0], [0.0, 1.004987562112089, 0.0], [0.0, 0.0, 1.0]], [[1.004987562112089, 0.0, 0.0], [0.0, 1.0, 0.0], [0.0, 0.0, 1.0]], [[1.0, 0.0, 0.0], [0.0, 0.99498743710662, 0.0], [0.0, 0.0, 1.0]], [[0.9899494936611666, 0.0, 0.0], [0.0, 1.0, 0.0], [0.0, 0.0, 1.0]], [[0.99498743710662, 0.0, 0.0], [0.0, 1.0, 0.0], [0.0, 0.0, 1.0]], [[1.0, 0.0, 0.0], [0.0, 1.0, 0.0], [0.0, 0.0, 1.0099504938362078]], [[1.0, 0.0, 0.0], [0.0, 0.9899494936611666, 0.0], [0.0, 0.0, 1.0]], [[1.0, 0.0, -0.02], [0.0, 1.0, 0.0], [0.0, 0.0, 0.999799979995999]], [[1.0099504938362078, 0.0, 0.0], [0.0, 1.0, 0.0], [0.0, 0.0, 1.0]], [[1.0, -0.01, 0.0], [0.0, 0.9999499987499375, 0.0], [0.0, 0.0, 1.0]], [[1.0, 0.0, 0.0], [0.0, 1.0, -0.01], [0.0, 0.0, 0.9999499987499375]], [[1.0, 0.0, 0.0], [0.0, 1.0, 0.0], [0.0, 0.0, 0.9899494936611666]], [[1.0, 0.0, -0.01], [0.0, 1.0, 0.0], [0.0, 0.0, 0.9999499987499375]], [[1.0, 0.0, 0.0], [0.0, 1.0099504938362078, 0.0], [0.0, 0.0, 1.0]], [[1.0, 0.0, 0.0], [0.0, 1.0, -0.02], [0.0, 0.0, 0.999799979995999]], [[1.0, 0.0, 0.0], [0.0, 1.0, 0.0], [0.0, 0.0, 0.99498743710662]], [[1.0, 0.0, 0.0], [0.0, 1.0, 0.0], [0.0, 0.0, 1.004987562112089]], [[1.0, -0.02, 0.0], [0.0, 0.999799979995999, 0.0], [0.0, 0.0, 1.0]]], 'strains': [[[0.0, 0.0, 0.0], [0.0, 0.004999999999999893, 0.0], [0.0, 0.0, 0.0]], [[0.004999999999999893, 0.0, 0.0], [0.0, 0.0, 0.0], [0.0, 0.0, 0.0]], [[0.0, 0.0, 0.0], [0.0, -0.0050000000000000044, 0.0], [0.0, 0.0, 0.0]], [[-0.009999999999999953, 0.0, 0.0], [0.0, 0.0, 0.0], [0.0, 0.0, 0.0]], [[-0.0050000000000000044, 0.0, 0.0], [0.0, 0.0, 0.0], [0.0, 0.0, 0.0]], [[0.0, 0.0, 0.0], [0.0, 0.0, 0.0], [0.0, 0.0, 0.010000000000000009]], [[0.0, 0.0, 0.0], [0.0, -0.009999999999999953, 0.0], [0.0, 0.0, 0.0]], [[0.0, 0.0, -0.01], [0.0, 0.0, 0.0], [-0.01, 0.0, 0.0]], [[0.010000000000000009, 0.0, 0.0], [0.0, 0.0, 0.0], [0.0, 0.0, 0.0]], [[0.0, -0.005, 0.0], [-0.005, 0.0, 0.0], [0.0, 0.0, 0.0]], [[0.0, 0.0, 0.0], [0.0, 0.0, -0.005], [0.0, -0.005, 0.0]], [[0.0, 0.0, 0.0], [0.0, 0.0, 0.0], [0.0, 0.0, -0.009999999999999953]], [[0.0, 0.0, -0.005], [0.0, 0.0, 0.0], [-0.005, 0.0, 0.0]], [[0.0, 0.0, 0.0], [0.0, 0.010000000000000009, 0.0], [0.0, 0.0, 0.0]], [[0.0, 0.0, 0.0], [0.0, 0.0, -0.01], [0.0, -0.01, 0.0]], [[0.0, 0.0, 0.0], [0.0, 0.0, 0.0], [0.0, 0.0, -0.0050000000000000044]], [[0.0, 0.0, 0.0], [0.0, 0.0, 0.0], [0.0, 0.0, 0.004999999999999893]], [[0.0, -0.01, 0.0], [-0.01, 0.0, 0.0], [0.0, 0.0, 0.0]]], 'cauchy_stresses': [[[0.8653671360000001, -0.0, -0.0], [-0.0, 1.341342422, -0.0], [0.0, -0.0, 0.7794467810000001]], [[1.3540929730000002, -0.0, -0.0], [-0.0, 0.913918984, -0.0], [-0.0, -0.0, 0.48334216500000005]], [[-0.93808338, -0.0, -0.0], [-0.0, -1.352182311, 0.0], [-0.0, 0.0, -0.8494504680000001]], [[-2.999229616, 0.0, 0.0], [0.0, -1.79883594, -0.0], [0.0, -0.0, -1.008936231]], [[-1.461646124, -0.0, -0.0], [-0.0, -0.889048994, 0.0], [-0.0, -0.0, -0.517459617]], [[0.913260468, -0.0, -0.0], [-0.0, 1.5624578270000002, -0.0], [-0.0, -0.0, 3.084639289]], [[-1.895858548, -0.0, 0.0], [-0.0, -2.756763524, 0.0], [0.0, 0.0, -1.71289925]], [[-0.022622798, -0.0, -0.989269712], [0.0, -0.083687701, 0.0], [-0.9892691120000001, 0.0, -0.083707797]], [[2.6012193750000003, 0.0, -0.0], [0.0, 1.7672734920000002, -0.0], [-0.0, -0.0, 0.938246751]], [[-0.014126159, -1.1088404920000001, -0.0], [-1.1088404969999999, -0.018305481000000002, -0.0], [-0.0, -0.0, -0.027074122000000003]], [[-0.041516114, 0.0, -0.0], [0.0, -0.010551174000000002, -1.1843816800000002], [-0.0, -1.184381517, -0.054845703999999995]], [[-1.028824916, -0.0, -0.0], [-0.0, -1.6521259940000002, -0.0], [-0.0, -0.0, -3.5144251160000004]], [[0.001657274, -0.0, -0.493507335], [-0.0, 0.004027251, -0.0], [-0.49350706000000005, -0.0, -0.022636807000000002]], [[1.679385421, -0.0, -0.0], [-0.0, 2.598068195, -0.0], [-0.0, -0.0, 1.53934068]], [[-0.122247536, 0.0, -0.0], [0.0, -0.07843148700000001, -2.367239088], [-0.0, -2.367238597, -0.16695929]], [[-0.5109063380000001, 0.0, -0.0], [0.0, -0.8092787700000001, -0.0], [-0.0, -0.0, -1.709331387]], [[0.44885534299999996, -0.0, -0.0], [-0.0, 0.802851009, -0.0], [-0.0, 0.0, 1.549313839]], [[-0.05678894, -2.217999405, -0.0], [-2.217999405, -0.160987275, -0.0], [-0.0, -0.0, -0.07836715600000001]]], 'second_pk_stresses': [[[0.8696832083405607, 0.0, 0.0], [0.0, 1.334685594696342, 0.0], [0.0, 0.0, 0.7833343202333054]], [[1.3473728671370113, 0.0, 0.0], [0.0, 0.9184772116981172, 0.0], [0.0, 0.0, 0.4857528640693291]], [[-0.9333811780585155, 0.0, 0.0], [0.0, -1.3589943556795925, 0.0], [0.0, 0.0, -0.845192544104339]], [[-3.029679428298749, 0.0, 0.0], [0.0, -1.7807567279825087, 0.0], [0.0, 0.0, -0.9987959110148559]], [[-1.4690096271470556, 0.0, 0.0], [0.0, -0.8845925800022788, 0.0], [0.0, 0.0, -0.5148658181250031]], [[0.9223478606576864, 0.0, 0.0], [0.0, 1.5780050539768984, 0.0], [0.0, 0.0, 3.054248012972666]], [[-1.8768042096457946, 0.0, 0.0], [0.0, -2.7847516884973187, 0.0], [0.0, 0.0, -1.695683745230092]], [[-0.06222253928528694, 0.0, -0.9909442028716708], [0.0, -0.08367096178571115, 0.0], [-0.9909436028716709, 0.0, -0.08372454358354256]], [[2.5755909728995707, 0.0, 0.0], [0.0, 1.7848587359890395, 0.0], [0.0, 0.0, 0.9475827695126675]], [[-0.036304093204025695, -1.1090235559634272, 0.0], [-1.109023560963427, -0.018306396342701283, 0.0], [0.0, 0.0, -0.027072768260055658]], [[-0.04151403814240226, 0.0, 0.0], [0.0, -0.03424376324275947, -1.1849301644649093], [0.0, -1.1849300014649091, -0.05484844649088853]], [[-1.0184847046601924, 0.0, 0.0], [0.0, -1.6355212912247516, 0.0], [0.0, 0.0, -3.5501054735655977]], [[-0.008215216609664223, 0.0, -0.4937337143892525], [0.0, 0.0040270496324156845, 0.0], [-0.49373343938925257, 0.0, -0.02263793892524511]], [[1.696096135280278, 0.0, 0.0], [0.0, 2.5724708397650935, 0.0], [0.0, 0.0, 1.554657879948164]], [[-0.12222308404736017, 0.0, 0.0], [0.0, -0.173172149910408, -2.370578941837578], [0.0, -2.3705784508375776, -0.16699269187889776]], [[-0.5083453878481486, 0.0, 0.0], [0.0, -0.8052222092670979, 0.0], [0.0, 0.0, -1.7179426827444788]], [[0.45109403690255545, 0.0, 0.0], [0.0, 0.8068552782741407, 0.0], [0.0, 0.0, 1.541624889112012]], [[-0.14556196506884098, -2.2212197946423493, 0.0], [-2.221219794642349, -0.16101948211745737, 0.0], [0.0, 0.0, -0.07835148100114334]]], 'deformation_tasks': ['mp-2786571', 'mp-2786575', 'mp-2806039', 'mp-2806046', 'mp-2806056', 'mp-2806059', 'mp-2806083', 'mp-2806084', 'mp-2806098', 'mp-2806105', 'mp-2806124', 'mp-2806223', 'mp-2806227', 'mp-2806286', 'mp-2806304', 'mp-2806314', 'mp-2806358', 'mp-2806369'], 'deformation_dir_names': ['login16.chn:/pscratch/sd/t/tsm/mjwen-elastic-tasks-2022-reparse/block_2021-07-28-08-05-39-212003/launcher_2021-07-28-15-02-37-108067', 'login16.chn:/pscratch/sd/t/tsm/mjwen-elastic-tasks-2022-reparse/block_2021-07-28-08-05-39-212003/launcher_2021-07-28-15-03-03-473233', 'login16.chn:/pscratch/sd/t/tsm/mjwen-elastic-tasks-2022-reparse/block_2021-07-28-08-05-39-212003/launcher_2021-07-28-15-02-43-204071', 'login16.chn:/pscratch/sd/t/tsm/mjwen-elastic-tasks-2022-reparse/block_2021-07-28-08-05-39-212003/launcher_2021-07-28-15-03-16-825860', 'login16.chn:/pscratch/sd/t/tsm/mjwen-elastic-tasks-2022-reparse/block_2021-07-28-08-05-39-212003/launcher_2021-07-28-15-03-11-454117', 'login16.chn:/pscratch/sd/t/tsm/mjwen-elastic-tasks-2022-reparse/block_2021-07-28-08-05-39-212003/launcher_2021-07-28-15-02-05-105927', 'login16.chn:/pscratch/sd/t/tsm/mjwen-elastic-tasks-2022-reparse/block_2021-07-28-08-05-39-212003/launcher_2021-07-28-15-02-50-553839', 'login16.chn:/pscratch/sd/t/tsm/mjwen-elastic-tasks-2022-reparse/block_2021-07-28-08-05-39-212003/launcher_2021-07-28-15-01-47-504055', 'login16.chn:/pscratch/sd/t/tsm/mjwen-elastic-tasks-2022-reparse/block_2021-07-28-08-05-39-212003/launcher_2021-07-28-15-02-57-065162', 'login16.chn:/pscratch/sd/t/tsm/mjwen-elastic-tasks-2022-reparse/block_2021-07-28-08-05-39-212003/launcher_2021-07-28-15-01-31-411988', 'login16.chn:/pscratch/sd/t/tsm/mjwen-elastic-tasks-2022-reparse/block_2021-07-28-08-05-39-212003/launcher_2021-07-28-15-01-52-631870', 'login16.chn:/pscratch/sd/t/tsm/mjwen-elastic-tasks-2022-reparse/block_2021-07-28-08-05-39-212003/launcher_2021-07-28-15-02-24-732655', 'login16.chn:/pscratch/sd/t/tsm/mjwen-elastic-tasks-2022-reparse/block_2021-07-28-08-05-39-212003/launcher_2021-07-28-15-01-42-379580', 'login16.chn:/pscratch/sd/t/tsm/mjwen-elastic-tasks-2022-reparse/block_2021-07-28-08-05-39-212003/launcher_2021-07-28-15-02-29-878052', 'login16.chn:/pscratch/sd/t/tsm/mjwen-elastic-tasks-2022-reparse/block_2021-07-28-08-05-39-212003/launcher_2021-07-28-15-01-58-730451', 'login16.chn:/pscratch/sd/t/tsm/mjwen-elastic-tasks-2022-reparse/block_2021-07-28-08-05-39-212003/launcher_2021-07-28-15-02-18-505709', 'login16.chn:/pscratch/sd/t/tsm/mjwen-elastic-tasks-2022-reparse/block_2021-07-28-08-05-39-212003/launcher_2021-07-28-15-02-11-520458', 'login16.chn:/pscratch/sd/t/tsm/mjwen-elastic-tasks-2022-reparse/block_2021-07-28-08-05-39-212003/launcher_2021-07-28-15-01-36-881946'], 'equilibrium_cauchy_stress': [[-0.036383687, -0.0, -0.0], [-0.0, 0.022507587000000003, -0.0], [-0.0, -0.0, -0.008870409000000001]], 'optimization_task': 'mp-2806064', 'optimization_dir_name': 'cori02:/global/cscratch1/sd/huck/mjwen-elastic-tasks-2022/block_2021-07-28-08-05-39-212003/launcher_2021-07-28-14-01-41-456180', 'num_total_strain_stress_states': 24}\n",
      "fitting_method finite_difference\n",
      "state successful\n",
      "fields_not_requested []\n",
      "@module mp_api.client.core.client\n",
      "@class MPDataDoc\n",
      "@version None\n",
      "description NbPd2 crystallizes in the orthorhombic Immm space group. Nb(1) is bonded to two equivalent Nb(1) and ten equivalent Pd(1) atoms to form distorted NbNb2Pd10 cuboctahedra that share corners with two equivalent Nb(1)Nb2Pd10 cuboctahedra, corners with ten equivalent Pd(1)Nb5Pd7 cuboctahedra, edges with twelve equivalent Nb(1)Nb2Pd10 cuboctahedra, edges with twelve equivalent Pd(1)Nb5Pd7 cuboctahedra, faces with four equivalent Nb(1)Nb2Pd10 cuboctahedra, and faces with fourteen equivalent Pd(1)Nb5Pd7 cuboctahedra. Both Nb(1)-Nb(1) bond lengths are 2.86 Å. There are eight shorter (2.82 Å) and two longer (2.84 Å) Nb(1)-Pd(1) bond lengths. Pd(1) is bonded to five equivalent Nb(1) and seven equivalent Pd(1) atoms to form distorted PdNb5Pd7 cuboctahedra that share corners with five equivalent Nb(1)Nb2Pd10 cuboctahedra, corners with seven equivalent Pd(1)Nb5Pd7 cuboctahedra, edges with six equivalent Nb(1)Nb2Pd10 cuboctahedra, edges with eighteen equivalent Pd(1)Nb5Pd7 cuboctahedra, faces with seven equivalent Nb(1)Nb2Pd10 cuboctahedra, and faces with eleven equivalent Pd(1)Nb5Pd7 cuboctahedra. There are a spread of Pd(1)-Pd(1) bond distances ranging from 2.82-2.86 Å.\n"
     ]
    }
   ],
   "source": [
    "for k, v in data[2].items():\n",
    "    print(k, v)"
   ]
  },
  {
   "cell_type": "code",
   "execution_count": 3,
   "metadata": {},
   "outputs": [],
   "source": [
    "def construct_datapoint(raw_datapoint: dict):\n",
    "    dic = {}\n",
    "    dic['crystal system'] : str = raw_datapoint['symmetry']['crystal_system']\n",
    "    dic['description'] : str = raw_datapoint['description']\n",
    "    # Extract the elastic tensor\n",
    "    dic['elastic tensor'] : list or None = raw_datapoint['elastic_tensor']['ieee_format'] if raw_datapoint['elastic_tensor']['ieee_format'] else None\n",
    "    # Traverse the 6x6 2D array elastic_tensor and change all -0.0 to 0.0\n",
    "    if dic['elastic tensor']:\n",
    "        for i in range(6):\n",
    "            for j in range(6):\n",
    "                if dic['elastic tensor'][i][j] == -0.0:\n",
    "                    dic['elastic tensor'][i][j] = 0.0\n",
    "    # Extract other elasticity properties\n",
    "    dic['bulk modulus'] : dict or None = raw_datapoint['bulk_modulus'] if raw_datapoint['bulk_modulus'] else None\n",
    "    dic['shear modulus'] : dict or None = raw_datapoint['shear_modulus'] if raw_datapoint['shear_modulus'] else None\n",
    "    dic['young modulus'] : float or None = raw_datapoint['young_modulus'] if raw_datapoint['young_modulus'] else None\n",
    "    dic['universal anisotropy'] : float or None = raw_datapoint['universal_anisotropy'] if raw_datapoint['universal_anisotropy'] else None\n",
    "    dic['isotropic possion ratio'] : float or None = raw_datapoint['homogeneous_poisson'] if raw_datapoint['homogeneous_poisson'] else None\n",
    "\n",
    "    return dic"
   ]
  },
  {
   "cell_type": "code",
   "execution_count": 4,
   "metadata": {},
   "outputs": [],
   "source": [
    "def construct_dataset(raw_data):\n",
    "    dataset = [construct_datapoint(data) for data in raw_data]\n",
    "    print(f\"Dataset constructed with {len(dataset)} data points\")\n",
    "    return dataset\n",
    "\n",
    "def store_dataset(dataset, stored_file_name):\n",
    "    with open(stored_file_name, 'w') as f:\n",
    "        json.dump(dataset, f, indent=2)\n",
    "    return print(f\"Dataset stored in {stored_file_name}\")"
   ]
  },
  {
   "cell_type": "code",
   "execution_count": 5,
   "metadata": {},
   "outputs": [
    {
     "name": "stdout",
     "output_type": "stream",
     "text": [
      "Dataset constructed with 12127 data points\n",
      "Dataset stored in only_structure_desc.json\n"
     ]
    }
   ],
   "source": [
    "combined_dataset = construct_dataset(data)\n",
    "store_dataset(combined_dataset, 'only_structure_desc.json')"
   ]
  },
  {
   "cell_type": "code",
   "execution_count": 6,
   "metadata": {},
   "outputs": [],
   "source": [
    "#build_alpaca\n",
    "import json\n",
    "\n",
    "with open('only_structure_desc.json') as f:\n",
    "    origin_data = json.load(f)"
   ]
  },
  {
   "cell_type": "code",
   "execution_count": 7,
   "metadata": {},
   "outputs": [
    {
     "name": "stdout",
     "output_type": "stream",
     "text": [
      "Original data length 12127\n"
     ]
    },
    {
     "name": "stderr",
     "output_type": "stream",
     "text": [
      "/Users/siyuliu/anaconda3/envs/ec/lib/python3.10/site-packages/pymatgen/analysis/elasticity/elastic.py:172: RuntimeWarning: divide by zero encountered in scalar divide\n",
      "  return 1 / self.compliance_tensor.voigt[:3, :3].sum()\n",
      "/Users/siyuliu/anaconda3/envs/ec/lib/python3.10/site-packages/pymatgen/analysis/elasticity/elastic.py:199: RuntimeWarning: invalid value encountered in scalar divide\n",
      "  return 9.0e9 * self.k_vrh * self.g_vrh / (3 * self.k_vrh + self.g_vrh)\n",
      "/Users/siyuliu/anaconda3/envs/ec/lib/python3.10/site-packages/pymatgen/analysis/elasticity/elastic.py:177: RuntimeWarning: divide by zero encountered in scalar divide\n",
      "  return 15 / (\n"
     ]
    },
    {
     "name": "stdout",
     "output_type": "stream",
     "text": [
      "[53, 74, 159, 247, 338, 450, 488, 542, 552, 690, 719, 788, 901, 1044, 1079, 1097, 1154, 1210, 1216, 1229, 1302, 1381, 1399, 1466, 1477, 1520, 1529, 1556, 1564, 1604, 1629, 1649, 1717, 1822, 1920, 1925, 1941, 2025, 2195, 2222, 2232, 2257, 2521, 2571, 2590, 2676, 2692, 2818, 2831, 2893, 2946, 2980, 2985, 3026, 3045, 3060, 3124, 3210, 3215, 3221, 3230, 3251, 3265, 3273, 3352, 3423, 3451, 3504, 3568, 3626, 3739, 3787, 3791, 3792, 3859, 3935, 3988, 4013, 4024, 4032, 4039, 4169, 4174, 4211, 4255, 4304, 4305, 4436, 4507, 4516, 4534, 4579, 4600, 4607, 4648, 4652, 4740, 4767, 4912, 4981, 5005, 5051, 5061, 5142, 5337, 5340, 5431, 5488, 5525, 5553, 5626, 5653, 5715, 5745, 5798, 5855, 6025, 6027, 6091, 6113, 6153, 6172, 6251, 6355, 6416, 6423, 6454, 6457, 6470, 6510, 6516, 6534, 6582, 6595, 6615, 6619, 6674, 6705, 6718, 6746, 6747, 6750, 6758, 6767, 6771, 6791, 6860, 6885, 6893, 6943, 6944, 6990, 7035, 7189, 7197, 7198, 7199, 7208, 7210, 7272, 7282, 7365, 7401, 7407, 7557, 7560, 7574, 7633, 7691, 7778, 7800, 7813, 7817, 7822, 7844, 7871, 7880, 7886, 7908, 7956, 7957, 8006, 8052, 8061, 8107, 8113, 8156, 8165, 8169, 8180, 8205, 8238, 8248, 8251, 8333, 8338, 8375, 8378, 8400, 8445, 8601, 8605, 8608, 8610, 8688, 8697, 8742, 8744, 8803, 8843, 8859, 8860, 8908, 8996, 9033, 9053, 9071, 9099, 9121, 9130, 9153, 9157, 9171, 9199, 9207, 9210, 9219, 9221, 9291, 9301, 9320, 9323, 9326, 9344, 9347, 9362, 9371, 9406, 9466, 9469, 9523, 9537, 9566, 9572, 9575, 9598, 9644, 9669, 9711, 9728, 9754, 9768, 9781, 9860, 9874, 9912, 9973, 10008, 10036, 10050, 10149, 10167, 10176, 10182, 10215, 10250, 10256, 10269, 10279, 10282, 10305, 10355, 10391, 10433, 10486, 10533, 10569, 10585, 10615, 10617, 10637, 10681, 10685, 10710, 10766, 10804, 10932, 11003, 11016, 11136, 11170, 11188, 11189, 11190, 11191, 11193, 11208, 11221, 11272, 11301, 11307, 11336, 11377, 11403, 11411, 11412, 11415, 11459, 11465, 11495, 11522, 11528, 11535, 11536, 11537, 11551, 11559, 11573, 11581, 11607, 11646, 11681, 11702, 11747, 11748, 11760, 11772, 11808, 11911, 11949, 11966, 11983, 12013, 12032, 12044, 12072, 12097, 12098, 12101, 12123]\n",
      "340\n",
      "After removing data length 11787\n",
      "Original data length 11787\n",
      "Deleted data with bulk_modulus or shear_modulus abnormality 10520\n"
     ]
    }
   ],
   "source": [
    "from pymatgen.analysis.elasticity import ElasticTensor\n",
    "import numpy as np\n",
    "\n",
    "print(\"Original data length\", len(origin_data))\n",
    "id_list = []\n",
    "for i in range(len(origin_data)):\n",
    "    try:\n",
    "        elastic_constant = np.asarray(origin_data[i]['elastic tensor'])\n",
    "        elastic_tensor = ElasticTensor.from_voigt(elastic_constant)\n",
    "        y_m = round(elastic_tensor.y_mod / 1e9, 3)\n",
    "    except Exception as e:\n",
    "        id_list.append(i)\n",
    "\n",
    "print(id_list)\n",
    "print(len(id_list))\n",
    "\n",
    "for index in sorted(id_list, reverse=True):\n",
    "    del origin_data[index]\n",
    "\n",
    "print(\"After removing data length\", len(origin_data))\n",
    "\n",
    "def calculate_properties(stiffness_matrix: list) -> (float, float, float):\n",
    "    elastic_constant = np.asarray(stiffness_matrix)\n",
    "    elastic_tensor = ElasticTensor.from_voigt(elastic_constant)\n",
    "    youngs_modulus = round(elastic_tensor.y_mod / 1e9, 3)\n",
    "    return youngs_modulus\n",
    "\n",
    "#删除体积模量和剪切模量异常的数据\n",
    "print(\"Original data length\", len(origin_data))\n",
    "delete_index = []\n",
    "for i in range(len(origin_data)):\n",
    "    if origin_data[i]['bulk modulus'] == None or origin_data[i]['shear modulus'] == None:\n",
    "        delete_index.append(i)\n",
    "    elif any(value < 0 for value in origin_data[i]['bulk modulus'].values()) or any(value > 1000 for value in origin_data[i]['bulk modulus'].values()):\n",
    "        delete_index.append(i)\n",
    "    elif any(value < 0 for value in origin_data[i]['shear modulus'].values()) or any(value > 1000 for value in origin_data[i]['shear modulus'].values()):\n",
    "        delete_index.append(i)\n",
    "\n",
    "for index in sorted(delete_index, reverse=True):\n",
    "    del origin_data[index]\n",
    "\n",
    "print(\"Deleted data with bulk_modulus or shear_modulus abnormality\", len(origin_data))"
   ]
  },
  {
   "cell_type": "code",
   "execution_count": 8,
   "metadata": {},
   "outputs": [],
   "source": [
    "after_deleted_data = origin_data\n",
    "bulk_modulus = [item['bulk modulus']['vrh'] for item in after_deleted_data]\n",
    "shear_modulus = [item['shear modulus']['vrh'] for item in after_deleted_data]\n",
    "young_modulus = [calculate_properties(item['elastic tensor']) for item in after_deleted_data]\n",
    "\n",
    "for i in range(len(after_deleted_data)):\n",
    "    after_deleted_data[i]['young modulus'] = young_modulus[i]"
   ]
  },
  {
   "cell_type": "code",
   "execution_count": 10,
   "metadata": {},
   "outputs": [
    {
     "name": "stdout",
     "output_type": "stream",
     "text": [
      "Crystal structures: 7\n",
      "Crystal structure values count: {'Orthorhombic': 1386, 'Cubic': 4175, 'Monoclinic': 572, 'Tetragonal': 2036, 'Trigonal': 814, 'Triclinic': 66, 'Hexagonal': 1471}\n",
      "5% for each crystal_system: {'Orthorhombic': 69, 'Cubic': 208, 'Monoclinic': 28, 'Tetragonal': 101, 'Trigonal': 40, 'Triclinic': 3, 'Hexagonal': 73}\n"
     ]
    }
   ],
   "source": [
    "import json\n",
    "data = after_deleted_data\n",
    "\n",
    "import math\n",
    "crystal_structure_data = [item['crystal system'] for item in data]\n",
    "crystal_structure_set = set(crystal_structure_data)\n",
    "crystal_structure_count = len(crystal_structure_set)\n",
    "crystal_structure_values_count = {structure: crystal_structure_data.count(structure) for structure in crystal_structure_set}\n",
    "print(f'Crystal structures: {crystal_structure_count}')\n",
    "print(f'Crystal structure values count: {crystal_structure_values_count}')\n",
    "csv_p5 = {k: math.floor(v*0.05) for k, v in crystal_structure_values_count.items() if v >= 5}\n",
    "print(f'5% for each crystal_system: {csv_p5}')\n",
    "\n",
    "for k, v in csv_p5.items():\n",
    "    for item in data:\n",
    "        if item['crystal system'] == k:\n",
    "            item['label'] = 'test'\n",
    "            v -= 1\n",
    "            if v == 0:\n",
    "                break\n",
    "\n",
    "for item in data:\n",
    "    if 'label' not in item:\n",
    "        item['label'] = 'train'\n",
    "\n",
    "alpaca_train = []\n",
    "alpaca_test = []\n",
    "def build_alpaca(datapoint):\n",
    "    dic = dict()\n",
    "    dic['instruction'] = f\"{datapoint}\"\n",
    "    dic['input'] = \"\"\n",
    "    dic['output'] = \"\"\n",
    "    return dic\n",
    "\n",
    "for item in data:\n",
    "    if item['label'] == 'train':\n",
    "        alpaca_train.append(build_alpaca(item))\n",
    "        del item['label']\n",
    "    else:\n",
    "        alpaca_test.append(build_alpaca(item))\n",
    "        del item['label']"
   ]
  },
  {
   "cell_type": "code",
   "execution_count": 11,
   "metadata": {},
   "outputs": [],
   "source": [
    "for k, v in csv_p5.items():\n",
    "    for item in data:\n",
    "        if item['crystal system'] == k:\n",
    "            item['label'] = 'test'\n",
    "            v -= 1\n",
    "            if v == 0:\n",
    "                break\n",
    "\n",
    "for item in data:\n",
    "    if 'label' not in item:\n",
    "        item['label'] = 'train'"
   ]
  },
  {
   "cell_type": "code",
   "execution_count": 12,
   "metadata": {},
   "outputs": [
    {
     "name": "stdout",
     "output_type": "stream",
     "text": [
      "crystal system Orthorhombic\n",
      "description FeB crystallizes in the orthorhombic Cmcm space group. Fe(1)3+ is bonded in a 7-coordinate geometry to seven equivalent B(1)3- atoms. There are a spread of Fe(1)-B(1) bond distances ranging from 2.14-2.17 Å. B(1)3- is bonded in a 9-coordinate geometry to seven equivalent Fe(1)3+ and two equivalent B(1)3- atoms. Both B(1)-B(1) bond lengths are 1.80 Å.\n",
      "elastic tensor [[450.0, 195.0, 171.0, 0.0, 0.0, 0.0], [195.0, 470.0, 150.0, 0.0, 0.0, 0.0], [171.0, 150.0, 345.0, 0.0, 0.0, 0.0], [0.0, 0.0, 0.0, 177.0, 0.0, 0.0], [0.0, 0.0, 0.0, 0.0, 203.0, 0.0], [0.0, 0.0, 0.0, 0.0, 0.0, 187.0]]\n",
      "bulk modulus {'voigt': 254.969, 'reuss': 247.879, 'vrh': 251.424}\n",
      "shear modulus {'voigt': 163.419, 'reuss': 154.716, 'vrh': 159.067}\n",
      "young modulus 393.981\n",
      "universal anisotropy 0.31\n",
      "isotropic possion ratio 0.239\n",
      "label test\n"
     ]
    }
   ],
   "source": [
    "for k, v in data[0].items():\n",
    "    print(k, v)"
   ]
  },
  {
   "cell_type": "code",
   "execution_count": 16,
   "metadata": {},
   "outputs": [],
   "source": [
    "#构建alpaca数据集\n",
    "def build_alpaca_dataset(data):\n",
    "    train_dataset = []\n",
    "    test_dataset = []\n",
    "    instruction = \"Given a material's crystal structure description, predict the elastic tensor of it directly and accurately with scientific logic. Answer without any other comments, descriptions, or explanations. The answer should be a 6x6 Python matrix. \"\n",
    "    for item in data:\n",
    "        label = item['label']\n",
    "        input_item = item['description']\n",
    "        output_item = f\"{item['elastic tensor']}\"\n",
    "        if label == 'test':\n",
    "            test_dataset.append({\n",
    "                'instruction': instruction,\n",
    "                'input': input_item,\n",
    "                'output': output_item,\n",
    "            })\n",
    "        else:\n",
    "            train_dataset.append({\n",
    "                'instruction': instruction,\n",
    "                'input': input_item,\n",
    "                'output': output_item,\n",
    "            })\n",
    "    return train_dataset, test_dataset"
   ]
  },
  {
   "cell_type": "code",
   "execution_count": 18,
   "metadata": {},
   "outputs": [],
   "source": [
    "tr, te = build_alpaca_dataset(data)\n",
    "\n",
    "with open('only_structure_desc_train.json', 'w') as file:\n",
    "    json.dump(tr, file)\n",
    "\n",
    "with open('only_structure_desc_test.json', 'w') as file:\n",
    "    json.dump(te, file)"
   ]
  },
  {
   "cell_type": "code",
   "execution_count": 19,
   "metadata": {},
   "outputs": [
    {
     "name": "stdout",
     "output_type": "stream",
     "text": [
      "9998 522\n",
      "{'instruction': \"Given a material's crystal structure description, predict the elastic tensor of it directly and accurately with scientific logic. Answer without any other comments, descriptions, or explanations. The answer should be a 6x6 Python matrix. \", 'input': 'TiB2 is hexagonal omega structure structured and crystallizes in the hexagonal P6/mmm space group. Ti(1) is bonded to twelve equivalent B(1) atoms to form a mixture of face and edge-sharing TiB12 cuboctahedra. All Ti(1)-B(1) bond lengths are 2.38 Å. B(1) is bonded in a 9-coordinate geometry to six equivalent Ti(1) and three equivalent B(1) atoms. All B(1)-B(1) bond lengths are 1.75 Å.', 'output': '[[652.0, 65.0, 106.0, 0.0, 0.0, 0.0], [65.0, 652.0, 106.0, 0.0, 0.0, 0.0], [106.0, 106.0, 451.0, 0.0, 0.0, 0.0], [0.0, 0.0, 0.0, 259.0, 0.0, 0.0], [0.0, 0.0, 0.0, 0.0, 259.0, 0.0], [0.0, 0.0, 0.0, 0.0, 0.0, 293.0]]'}\n",
      "{'instruction': \"Given a material's crystal structure description, predict the elastic tensor of it directly and accurately with scientific logic. Answer without any other comments, descriptions, or explanations. The answer should be a 6x6 Python matrix. \", 'input': 'FeB crystallizes in the orthorhombic Cmcm space group. Fe(1)3+ is bonded in a 7-coordinate geometry to seven equivalent B(1)3- atoms. There are a spread of Fe(1)-B(1) bond distances ranging from 2.14-2.17 Å. B(1)3- is bonded in a 9-coordinate geometry to seven equivalent Fe(1)3+ and two equivalent B(1)3- atoms. Both B(1)-B(1) bond lengths are 1.80 Å.', 'output': '[[450.0, 195.0, 171.0, 0.0, 0.0, 0.0], [195.0, 470.0, 150.0, 0.0, 0.0, 0.0], [171.0, 150.0, 345.0, 0.0, 0.0, 0.0], [0.0, 0.0, 0.0, 177.0, 0.0, 0.0], [0.0, 0.0, 0.0, 0.0, 203.0, 0.0], [0.0, 0.0, 0.0, 0.0, 0.0, 187.0]]'}\n"
     ]
    }
   ],
   "source": [
    "print(len(tr), len(te))\n",
    "print(tr[0])\n",
    "print(te[0])"
   ]
  }
 ],
 "metadata": {
  "kernelspec": {
   "display_name": "ec",
   "language": "python",
   "name": "python3"
  },
  "language_info": {
   "codemirror_mode": {
    "name": "ipython",
    "version": 3
   },
   "file_extension": ".py",
   "mimetype": "text/x-python",
   "name": "python",
   "nbconvert_exporter": "python",
   "pygments_lexer": "ipython3",
   "version": "3.10.12"
  }
 },
 "nbformat": 4,
 "nbformat_minor": 2
}
