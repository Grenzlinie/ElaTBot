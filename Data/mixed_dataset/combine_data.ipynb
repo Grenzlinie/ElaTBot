{
 "cells": [
  {
   "cell_type": "code",
   "execution_count": 1,
   "metadata": {},
   "outputs": [
    {
     "name": "stdout",
     "output_type": "stream",
     "text": [
      "Name<_io.TextIOWrapper name='/Users/siyuliu/Desktop/source_code/Data/mixed_dataset/ec_desc.json' mode='r' encoding='utf-8'>\n",
      "Name<_io.TextIOWrapper name='/Users/siyuliu/Desktop/source_code/Data/mixed_dataset/temp_formula_data.json' mode='r' encoding='utf-8'>\n",
      "Name<_io.TextIOWrapper name='/Users/siyuliu/Desktop/source_code/Data/mixed_dataset/temp_infill_data.json' mode='r' encoding='utf-8'>\n",
      "Name<_io.TextIOWrapper name='/Users/siyuliu/Desktop/source_code/Data/mixed_dataset/mp_infill_data.json' mode='r' encoding='utf-8'>\n",
      "Name<_io.TextIOWrapper name='/Users/siyuliu/Desktop/source_code/Data/mixed_dataset/crystal_gen_data.json' mode='r' encoding='utf-8'>\n",
      "Name<_io.TextIOWrapper name='/Users/siyuliu/Desktop/source_code/Data/mixed_dataset/ec_desc_moduli.json' mode='r' encoding='utf-8'>\n",
      "Name<_io.TextIOWrapper name='/Users/siyuliu/Desktop/source_code/Data/mixed_dataset/temp_formula_data_moduli.json' mode='r' encoding='utf-8'>\n",
      "Combined JSON data has been saved to /Users/siyuliu/Desktop/source_code/Data/mixed_dataset/combined_data.json\n"
     ]
    }
   ],
   "source": [
    "import os\n",
    "import json\n",
    "\n",
    "# Define the directory containing the JSON files\n",
    "directory = os.getcwd()\n",
    "\n",
    "# Initialize an empty list to hold the combined data\n",
    "combined_data = []\n",
    "cnt = 0 \n",
    "# Loop through all files in the directory\n",
    "for filename in os.listdir(directory):\n",
    "    if filename.endswith(\".json\"):\n",
    "        filepath = os.path.join(directory, filename)\n",
    "        with open(filepath, 'r', encoding='utf-8') as file:\n",
    "            print(\"Name\"+ str(file))\n",
    "            data = json.load(file)\n",
    "            combined_data.extend(data)\n",
    "            cnt += 1\n",
    "\n",
    "# Define the output file path\n",
    "output_filepath = os.path.join(directory, 'combined_data.json')\n",
    "\n",
    "for i in range(len(combined_data)):\n",
    "    combined_data[i]['output'] = str(combined_data[i]['output'])\n",
    "# Write the combined data to the output file\n",
    "with open(output_filepath, 'w', encoding='utf-8') as output_file:\n",
    "    json.dump(combined_data, output_file, ensure_ascii=False, indent=4)\n",
    "\n",
    "print(f\"Combined JSON data has been saved to {output_filepath}\")\n"
   ]
  },
  {
   "cell_type": "code",
   "execution_count": 2,
   "metadata": {},
   "outputs": [
    {
     "name": "stdout",
     "output_type": "stream",
     "text": [
      "44732\n",
      "7\n"
     ]
    }
   ],
   "source": [
    "print(len(combined_data))\n",
    "print(cnt)"
   ]
  },
  {
   "cell_type": "code",
   "execution_count": 2,
   "metadata": {},
   "outputs": [],
   "source": [
    "import json\n",
    "with open('/Users/siyuliu/Library/CloudStorage/OneDrive-TheUniversityofHongKong-Connect/Project/EC/ec/mp_dataset/mixed_dataset/combined_data.json', 'r') as f:\n",
    "    data = json.load(f)"
   ]
  },
  {
   "cell_type": "code",
   "execution_count": null,
   "metadata": {},
   "outputs": [],
   "source": [
    "def count_chars(data):\n",
    "    char_count = 0\n",
    "    for item in data:\n",
    "        for key, value in item.items():\n",
    "            if isinstance(value, str):\n",
    "                char_count += len(value)\n",
    "    return char_count\n",
    "\n",
    "char_count = count_chars(data)\n",
    "print(f\"The total number of characters in the JSON data is {char_count}\")\n"
   ]
  }
 ],
 "metadata": {
  "kernelspec": {
   "display_name": "ec-test",
   "language": "python",
   "name": "python3"
  },
  "language_info": {
   "codemirror_mode": {
    "name": "ipython",
    "version": 3
   },
   "file_extension": ".py",
   "mimetype": "text/x-python",
   "name": "python",
   "nbconvert_exporter": "python",
   "pygments_lexer": "ipython3",
   "version": "3.10.14"
  }
 },
 "nbformat": 4,
 "nbformat_minor": 2
}
