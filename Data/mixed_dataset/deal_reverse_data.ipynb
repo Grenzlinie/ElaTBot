{
 "cells": [
  {
   "cell_type": "code",
   "execution_count": 1,
   "metadata": {},
   "outputs": [],
   "source": [
    "import json\n",
    "with open('../temp_data/combined_temp_data.json') as f:\n",
    "    temp_data = json.load(f)\n",
    "with open('mp_for_reverse_3.jsonl') as f:\n",
    "    combined_data = [json.loads(line) for line in f]"
   ]
  },
  {
   "cell_type": "markdown",
   "metadata": {},
   "source": [
    "### Infill Task"
   ]
  },
  {
   "cell_type": "code",
   "execution_count": 2,
   "metadata": {},
   "outputs": [],
   "source": [
    "mp_formula_list = []\n",
    "temp_formula_list = []"
   ]
  },
  {
   "cell_type": "code",
   "execution_count": 3,
   "metadata": {},
   "outputs": [],
   "source": [
    "from pymatgen.core.composition import Composition\n",
    "def build_infill_data(datapoint, label):\n",
    "    infill_instruction = \"Below is a partial description of a material where the chemical formula has been replaced with the string '[MASK]'. \"\n",
    "    infill_input = \"Generate the chemical formula that could replace [MASK]: \"\n",
    "    if label == 'mp':\n",
    "        mp_formula_list.append(datapoint['formula_pretty'])\n",
    "        formula = datapoint['formula_pretty']\n",
    "        composition = datapoint['composition_reduced']\n",
    "        input = f\"The material is [MASK] with a reduced composition of {composition}. \"\n",
    "        return {\"instruction\": infill_instruction, \"input\": input+infill_input, \"output\": formula}\n",
    "    elif label == 'temp':\n",
    "        temp_formula_list.append(datapoint['formula'])\n",
    "        formula = datapoint['formula']\n",
    "        composition = Composition(datapoint['formula'])\n",
    "        reduced_dict = composition.to_reduced_dict\n",
    "        sum_value = sum(reduced_dict.values())\n",
    "        ratio_dict = {element: round((amount / sum_value)*100, 2) for element, amount in reduced_dict.items()}\n",
    "        input = f\"The material is [MASK] with composition ratio {ratio_dict} (total is 100%). \"\n",
    "        return {\"instruction\": infill_instruction, \"input\": input+infill_input, \"output\": formula}"
   ]
  },
  {
   "cell_type": "code",
   "execution_count": 4,
   "metadata": {},
   "outputs": [],
   "source": [
    "mp_infill_data = [build_infill_data(data, 'mp') for data in combined_data if data['formula_pretty'] not in mp_formula_list]\n",
    "temp_infill_data = [build_infill_data(data, 'temp') for data in temp_data if data['pressure'] == 1 and data['temperature'] != 0 and data['formula'] not in temp_formula_list]"
   ]
  },
  {
   "cell_type": "code",
   "execution_count": 5,
   "metadata": {},
   "outputs": [
    {
     "name": "stdout",
     "output_type": "stream",
     "text": [
      "{'instruction': \"Below is a partial description of a material where the chemical formula has been replaced with the string '[MASK]'. \", 'input': \"The material is [MASK] with a reduced composition of {'Fe': 1.0, 'B': 1.0}. Generate the chemical formula that could replace [MASK]: \", 'output': 'FeB'}\n",
      "{'instruction': \"Below is a partial description of a material where the chemical formula has been replaced with the string '[MASK]'. \", 'input': \"The material is [MASK] with composition ratio {'Al': 100.0} (total is 100%). Generate the chemical formula that could replace [MASK]: \", 'output': 'Al'}\n"
     ]
    }
   ],
   "source": [
    "print(mp_infill_data[0])\n",
    "print(temp_infill_data[0])"
   ]
  },
  {
   "cell_type": "code",
   "execution_count": 6,
   "metadata": {},
   "outputs": [
    {
     "name": "stdout",
     "output_type": "stream",
     "text": [
      "9215\n",
      "159\n"
     ]
    }
   ],
   "source": [
    "print(len(mp_infill_data))\n",
    "print(len(temp_infill_data))\n",
    "with open('mp_infill_data.json', 'w') as f:\n",
    "    json.dump(mp_infill_data, f, indent=3)\n",
    "with open('temp_infill_data.json', 'w') as f:\n",
    "    json.dump(temp_infill_data, f, indent=3)"
   ]
  },
  {
   "cell_type": "code",
   "execution_count": 14,
   "metadata": {},
   "outputs": [],
   "source": [
    "with open('mp_infill_data.json') as f:\n",
    "    mp_infill_data = json.load(f)\n",
    "with open('temp_infill_data.json') as f:\n",
    "    temp_infill_data = json.load(f)"
   ]
  },
  {
   "cell_type": "markdown",
   "metadata": {},
   "source": [
    "### Generation Task"
   ]
  },
  {
   "cell_type": "code",
   "execution_count": 7,
   "metadata": {},
   "outputs": [],
   "source": [
    "import json\n",
    "with open(\"mp_for_reverse_3.jsonl\", 'r') as f:\n",
    "    mp_data = [json.loads(line) for line in f]\n",
    "with open('../temp_data/combined_temp_data.json') as f:\n",
    "    temp_data = json.load(f)"
   ]
  },
  {
   "cell_type": "code",
   "execution_count": 8,
   "metadata": {},
   "outputs": [],
   "source": [
    "from pymatgen.analysis.elasticity.elastic import ElasticTensor\n",
    "def build_gen_data(datapoint, label_for_dataset, label_for_properties):\n",
    "    if label_for_dataset == 'mp':\n",
    "        if label_for_properties == 'bulk':\n",
    "            elastic_prop = \"Voigt bulk modulus\"\n",
    "            prop_value = round(ElasticTensor.from_voigt(datapoint['elastic tensor']).k_voigt, 2)\n",
    "            temperature = 0\n",
    "            output = f\"{datapoint['formula_pretty']}, {datapoint['crystal system']}\"\n",
    "        elif label_for_properties == 'shear':\n",
    "            elastic_prop = \"Voigt shear modulus\"\n",
    "            prop_value = round(ElasticTensor.from_voigt(datapoint['elastic tensor']).g_voigt, 2)\n",
    "            temperature = 0\n",
    "            output = f\"{datapoint['formula_pretty']}, {datapoint['crystal system']}\"\n",
    "        elif label_for_properties == 'young':\n",
    "            elastic_prop = \"Young's modulus\"\n",
    "            prop_value = round(ElasticTensor.from_voigt(datapoint['elastic tensor']).y_mod / 1e9, 2)\n",
    "            temperature = 0\n",
    "            output = f\"{datapoint['formula_pretty']}, {datapoint['crystal system']}\"\n",
    "            \n",
    "    elif label_for_dataset == 'temp':\n",
    "        if label_for_properties == 'bulk':\n",
    "            elastic_prop = \"Voigt bulk modulus\"\n",
    "            prop_value = round(ElasticTensor.from_voigt(datapoint['elastic tensor voigt notation']).k_voigt, 2)\n",
    "            temperature = datapoint['temperature']\n",
    "            output = f\"{datapoint['formula']}, {datapoint['crystal system']}\"\n",
    "        elif label_for_properties == 'shear':\n",
    "            elastic_prop = \"Voigt shear modulus\"\n",
    "            prop_value = round(ElasticTensor.from_voigt(datapoint['elastic tensor voigt notation']).g_voigt, 2)\n",
    "            temperature = datapoint['temperature']\n",
    "            output = f\"{datapoint['formula']}, {datapoint['crystal system']}\"\n",
    "        elif label_for_properties == 'young':\n",
    "            elastic_prop = \"Young's modulus\"\n",
    "            prop_value = round(ElasticTensor.from_voigt(datapoint['elastic tensor voigt notation']).y_mod / 1e9, 2)\n",
    "            temperature = datapoint['temperature']\n",
    "            output = f\"{datapoint['formula']}, {datapoint['crystal system']}\"\n",
    "            \n",
    "    input = f\"Generate a material chemical formula and its crystal system with a {elastic_prop} of {prop_value} GPa at a temperature of {temperature}K. Use scientific reasoning step-by-step and directly output the answer without additional comments, descriptions, or explanations.\"\n",
    "    return {\"instruction\": \"\", \"input\": input, \"output\": output}"
   ]
  },
  {
   "cell_type": "code",
   "execution_count": 9,
   "metadata": {},
   "outputs": [],
   "source": [
    "bulk_mp_data = [build_gen_data(data, 'mp', 'bulk') for data in mp_data]\n",
    "# shear_mp_data = [build_gen_data(data, 'mp', 'shear') for data in mp_data]\n",
    "# young_mp_data = [build_gen_data(data, 'mp', 'young') for data in mp_data]\n",
    "bulk_temp_data = [build_gen_data(data, 'temp', 'bulk') for data in temp_data if data['pressure'] == 1 and data['temperature'] != 0]\n",
    "# shear_temp_data = [build_gen_data(data, 'temp', 'shear') for data in temp_data if data['pressure'] == 1 and data['temperature'] != 0]\n",
    "# young_temp_data = [build_gen_data(data, 'temp', 'young') for data in temp_data if data['pressure'] == 1 and data['temperature'] != 0]\n",
    "# combined_data = bulk_mp_data + shear_mp_data + young_mp_data + bulk_temp_data + shear_temp_data + young_temp_data\n",
    "combined_data = bulk_mp_data + bulk_temp_data"
   ]
  },
  {
   "cell_type": "code",
   "execution_count": 10,
   "metadata": {},
   "outputs": [
    {
     "name": "stdout",
     "output_type": "stream",
     "text": [
      "{'instruction': '', 'input': 'Generate a material chemical formula and its crystal system with a Voigt bulk modulus of 255.22 GPa at a temperature of 0K. Use scientific reasoning step-by-step and directly output the answer without additional comments, descriptions, or explanations.', 'output': 'FeB, Orthorhombic'}\n",
      "{'instruction': '', 'input': 'Generate a material chemical formula and its crystal system with a Voigt bulk modulus of 77.52 GPa at a temperature of 300K. Use scientific reasoning step-by-step and directly output the answer without additional comments, descriptions, or explanations.', 'output': 'Al, cubic'}\n"
     ]
    }
   ],
   "source": [
    "print(bulk_mp_data[0])\n",
    "print(bulk_temp_data[0])"
   ]
  },
  {
   "cell_type": "code",
   "execution_count": 11,
   "metadata": {},
   "outputs": [],
   "source": [
    "with open('crystal_gen_data.json', 'w') as f:\n",
    "    json.dump(combined_data, f, indent=3)"
   ]
  }
 ],
 "metadata": {
  "kernelspec": {
   "display_name": "ec",
   "language": "python",
   "name": "python3"
  },
  "language_info": {
   "codemirror_mode": {
    "name": "ipython",
    "version": 3
   },
   "file_extension": ".py",
   "mimetype": "text/x-python",
   "name": "python",
   "nbconvert_exporter": "python",
   "pygments_lexer": "ipython3",
   "version": "3.10.12"
  }
 },
 "nbformat": 4,
 "nbformat_minor": 2
}
