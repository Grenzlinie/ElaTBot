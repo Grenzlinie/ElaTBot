{
 "cells": [
  {
   "cell_type": "code",
   "execution_count": 17,
   "metadata": {},
   "outputs": [],
   "source": [
    "import json\n",
    "with open(\"mp_data.jsonl\", \"r\") as f:\n",
    "    data = [json.loads(line) for line in f]"
   ]
  },
  {
   "cell_type": "code",
   "execution_count": 15,
   "metadata": {},
   "outputs": [
    {
     "name": "stdout",
     "output_type": "stream",
     "text": [
      "H3PbCI3NF3\n"
     ]
    }
   ],
   "source": [
    "for item in data:\n",
    "    if len(item['elements']) == 6:\n",
    "        print(item['formula_pretty'])"
   ]
  },
  {
   "cell_type": "code",
   "execution_count": 20,
   "metadata": {},
   "outputs": [
    {
     "name": "stdout",
     "output_type": "stream",
     "text": [
      "Number of samples with 1 elements: 200\n",
      "Number of samples with 2 elements: 3967\n",
      "Number of samples with 3 elements: 5971\n",
      "Number of samples with 4 elements: 361\n",
      "Number of samples with 5 elements: 20\n",
      "Number of samples with 6 elements: 1\n"
     ]
    }
   ],
   "source": [
    "from collections import Counter\n",
    "# Count the length of each element list\n",
    "lengths = [len(item['elements']) for item in data]\n",
    "\n",
    "# Use Counter to count the frequency of each length\n",
    "length_counts = Counter(lengths)\n",
    "\n",
    "# Print results\n",
    "for length, count in sorted(length_counts.items()):\n",
    "    print(f\"Number of samples with {length} elements: {count}\")\n"
   ]
  },
  {
   "cell_type": "code",
   "execution_count": 21,
   "metadata": {},
   "outputs": [
    {
     "name": "stdout",
     "output_type": "stream",
     "text": [
      "Number of unique materials lists:\n",
      "Number of unique materials lists with 1 elements: 74\n",
      "Number of unique materials lists with 2 elements: 1741\n",
      "Number of unique materials lists with 3 elements: 4794\n",
      "Number of unique materials lists with 4 elements: 344\n",
      "Number of unique materials lists with 5 elements: 20\n",
      "Number of unique materials lists with 6 elements: 1\n"
     ]
    }
   ],
   "source": [
    "# Get unique element lists by converting to tuples (which are hashable)\n",
    "unique_element_lists = set(frozenset(item['elements']) for item in data)\n",
    "\n",
    "# Count the length of each unique element list\n",
    "lengths = [len(elements) for elements in unique_element_lists]\n",
    "\n",
    "# Use Counter to count the frequency of each length\n",
    "length_counts = Counter(lengths)\n",
    "\n",
    "# Print results\n",
    "print(\"Number of unique materials lists:\")\n",
    "for length, count in sorted(length_counts.items()):\n",
    "    print(f\"Number of unique materials lists with {length} elements: {count}\")"
   ]
  },
  {
   "cell_type": "code",
   "execution_count": 8,
   "metadata": {},
   "outputs": [
    {
     "name": "stdout",
     "output_type": "stream",
     "text": [
      "['Ac', 'Ag', 'Al', 'Ar', 'As', 'Au', 'B', 'Ba', 'Be', 'Bi', 'Br', 'C', 'Ca', 'Cd', 'Ce', 'Cl', 'Co', 'Cr', 'Cs', 'Cu', 'Dy', 'Er', 'Eu', 'F', 'Fe', 'Ga', 'Gd', 'Ge', 'H', 'He', 'Hf', 'Hg', 'Ho', 'I', 'In', 'Ir', 'K', 'Kr', 'La', 'Li', 'Lu', 'Mg', 'Mn', 'Mo', 'N', 'Na', 'Nb', 'Nd', 'Ne', 'Ni', 'Np', 'O', 'Os', 'P', 'Pa', 'Pb', 'Pd', 'Pm', 'Pr', 'Pt', 'Pu', 'Rb', 'Re', 'Rh', 'Ru', 'S', 'Sb', 'Sc', 'Se', 'Si', 'Sm', 'Sn', 'Sr', 'Ta', 'Tb', 'Tc', 'Te', 'Th', 'Ti', 'Tl', 'Tm', 'U', 'V', 'W', 'Xe', 'Y', 'Zn', 'Zr']\n",
      "88\n"
     ]
    }
   ],
   "source": [
    "elements = set()\n",
    "for item in data:\n",
    "    for el in item[\"elements\"]:\n",
    "        elements.add(el)\n",
    "elements = sorted(list(elements))\n",
    "print(elements)\n",
    "print(len(elements))"
   ]
  },
  {
   "cell_type": "code",
   "execution_count": 9,
   "metadata": {},
   "outputs": [
    {
     "name": "stdout",
     "output_type": "stream",
     "text": [
      "{'Ti', 'Tb', 'Rh', 'C', 'Zn', 'Ga', 'Pr', 'W', 'Te', 'Os', 'Th', 'Bi', 'Ge', 'Cu', 'Ru', 'Fe', 'Y', 'Si', 'Br', 'Np', 'V', 'La', 'Nb', 'Cs', 'Sr', 'Sn', 'Au', 'Mn', 'Sc', 'Cd', 'Tl', 'In', 'Ir', 'Eu', 'Co', 'S', 'O', 'Pb', 'H', 'U', 'Cl', 'N', 'Ho', 'Rb', 'Nd', 'Li', 'Hf', 'Tm', 'Zr', 'Ba', 'F', 'Er', 'Tc', 'K', 'Mg', 'Pd', 'Ne', 'Na', 'I', 'Ac', 'Se', 'Pt', 'Ta', 'Cr', 'B', 'Ce', 'Al', 'Mo', 'Be', 'Sb', 'Pa', 'Ni', 'Sm', 'Ag', 'Lu', 'P', 'As', 'Re', 'Hg', 'Dy', 'Ca'}\n",
      "81\n"
     ]
    }
   ],
   "source": [
    "with open(\"../reproduce/data/prompt_type_4/ec_desc_test_dataset_with_mpid.json\", \"r\") as f:\n",
    "    data_test = json.load(f)\n",
    "elements_test = set()\n",
    "import re\n",
    "from pymatgen.core.composition import Composition\n",
    "\n",
    "for item in data_test:\n",
    "    input_text = item['input']\n",
    "    if \"The material\" in input_text:\n",
    "        material_match = re.search(r\"The material (\\w+) with\", input_text)\n",
    "        if material_match:\n",
    "            material_formula = material_match.group(1)\n",
    "            comp = Composition(material_formula)\n",
    "            for el in comp.elements:\n",
    "                elements_test.add(str(el))\n",
    "print(elements_test)\n",
    "print(len(elements_test))\n"
   ]
  },
  {
   "cell_type": "code",
   "execution_count": 8,
   "metadata": {},
   "outputs": [],
   "source": [
    "elements_not_in_training = elements_test - set(elements)\n",
    "if elements_not_in_training:\n",
    "    print(f\"Warning: Found elements in test set that are not in training set: {elements_not_in_training}\")"
   ]
  },
  {
   "cell_type": "code",
   "execution_count": 1,
   "metadata": {},
   "outputs": [
    {
     "name": "stdout",
     "output_type": "stream",
     "text": [
      "Distribution of number of elements in formulas:\n",
      "1 elements: 973 materials (76.86%)\n",
      "2 elements: 293 materials (23.14%)\n",
      "\n",
      "Distribution of crystal systems:\n",
      "cubic: 841 materials (66.43%)\n",
      "hexagonal: 330 materials (26.07%)\n",
      "orthorhomabic: 67 materials (5.29%)\n",
      "tetragonal 1: 21 materials (1.66%)\n",
      "trigonal 1: 7 materials (0.55%)\n",
      "\n",
      "Total number of materials: 1266\n"
     ]
    }
   ],
   "source": [
    "import json\n",
    "from pymatgen.core.composition import Composition\n",
    "from collections import Counter\n",
    "\n",
    "with open(\"../reproduce/data/temp_data/combined_temp_data.json\", \"r\") as f:\n",
    "    temp_data_raw = json.load(f)\n",
    "    temp_data = [x for x in temp_data_raw if x['pressure'] == 1 and x['temperature'] != 0]\n",
    "\n",
    "# Count number of elements in each formula\n",
    "element_counts = []\n",
    "crystal_systems = []\n",
    "\n",
    "for item in temp_data:\n",
    "    # Count elements\n",
    "    formula = item['formula']\n",
    "    comp = Composition(formula)\n",
    "    num_elements = len(comp.elements)\n",
    "    element_counts.append(num_elements)\n",
    "    \n",
    "    # Get crystal system\n",
    "    crystal_systems.append(item['crystal system'])\n",
    "\n",
    "# Get element count statistics\n",
    "count_distribution = Counter(element_counts)\n",
    "sorted_counts = sorted(count_distribution.items())\n",
    "\n",
    "print(\"Distribution of number of elements in formulas:\")\n",
    "for num_elements, count in sorted_counts:\n",
    "    print(f\"{num_elements} elements: {count} materials ({count/len(temp_data)*100:.2f}%)\")\n",
    "\n",
    "# Get crystal system statistics\n",
    "crystal_system_distribution = Counter(crystal_systems)\n",
    "sorted_crystal_systems = sorted(crystal_system_distribution.items())\n",
    "\n",
    "print(\"\\nDistribution of crystal systems:\")\n",
    "for system, count in sorted_crystal_systems:\n",
    "    print(f\"{system}: {count} materials ({count/len(temp_data)*100:.2f}%)\")\n",
    "\n",
    "print(f\"\\nTotal number of materials: {len(temp_data)}\")\n"
   ]
  }
 ],
 "metadata": {
  "kernelspec": {
   "display_name": "ec-test",
   "language": "python",
   "name": "python3"
  },
  "language_info": {
   "codemirror_mode": {
    "name": "ipython",
    "version": 3
   },
   "file_extension": ".py",
   "mimetype": "text/x-python",
   "name": "python",
   "nbconvert_exporter": "python",
   "pygments_lexer": "ipython3",
   "version": "3.10.14"
  }
 },
 "nbformat": 4,
 "nbformat_minor": 2
}
