{
 "cells": [
  {
   "cell_type": "code",
   "execution_count": 1,
   "metadata": {},
   "outputs": [],
   "source": [
    "import os\n",
    "import json\n",
    "with open(\"../ElaTBoT-DFT/ft_result/prompt4/test_result_repeat_in_bohrium_v100/generated_predictions.jsonl\", 'r') as file:\n",
    "    prediction_data = [json.loads(line) for line in file]\n",
    "with open('../reproduce/data/prompt_type_4/ec_desc_test_dataset_with_mpid.json', 'r') as file:\n",
    "    test_data = json.load(file)\n",
    "with open(\"../reproduce/data/prompt_type_4/after_deleted_data.json\", 'r') as file:\n",
    "    filtered_data = json.load(file)"
   ]
  },
  {
   "cell_type": "code",
   "execution_count": 2,
   "metadata": {},
   "outputs": [
    {
     "name": "stdout",
     "output_type": "stream",
     "text": [
      "522\n",
      "522\n",
      "10520\n",
      "{'label': '[[450.0, 195.0, 171.0, 0.0, 0.0, 0.0], [195.0, 470.0, 150.0, 0.0, 0.0, 0.0], [171.0, 150.0, 345.0, 0.0, 0.0, 0.0], [0.0, 0.0, 0.0, 177.0, 0.0, 0.0], [0.0, 0.0, 0.0, 0.0, 203.0, 0.0], [0.0, 0.0, 0.0, 0.0, 0.0, 187.0]]', 'predict': '[[518.0, 170.0, 180.0, 0.0, 0.0, 0.0], [170.0, 520.0, 170.0, 0.0, 0.0, 0.0], [180.0, 170.0, 518.0, 0.0, 0.0, 0.0], [0.0, 0.0, 0.0, 200.0, 0.0, 0.0], [0.0, 0.0, 0.0, 0.0, 230.0, 0.0], [0.0, 0.0, 0.0, 0.0, 0.0, 209.0]]'}\n",
      "{'instruction': 'Given a material description, predict the elastic tensor of it directly and accurately with scientific logic. Answer without any other comments, descriptions, or explanations. The answer should be a 6x6 Python matrix. ', 'input': \"The material FeB with a reduced composition of {'Fe': 1.0, 'B': 1.0} exhibits a density of 6.877 g/cm^3 and a density per atom of 8.047 g/cm^3. The information about the elements contained in the material is as follows. B has an electronegativity of 2.04, an ionization energy of 8.298 eV, a bulk modulus of 320.0 GPa, an atomic radius of 0.87 Å. Fe has an electronegativity of 1.83, an ionization energy of 7.902 eV, a bulk modulus of 170.0 GPa, a Young's modulus of 211.0 GPa, a Poisson's ratio of 0.29, an atomic radius of 1.56 Å. FeB crystallizes in the orthorhombic Cmcm space group. Fe(1)3+ is bonded in a 7-coordinate geometry to seven equivalent B(1)3- atoms. There are a spread of Fe(1)-B(1) bond distances ranging from 2.14-2.17 Å. B(1)3- is bonded in a 9-coordinate geometry to seven equivalent Fe(1)3+ and two equivalent B(1)3- atoms. Both B(1)-B(1) bond lengths are 1.80 Å.\", 'output': '[[450.0, 195.0, 171.0, 0.0, 0.0, 0.0], [195.0, 470.0, 150.0, 0.0, 0.0, 0.0], [171.0, 150.0, 345.0, 0.0, 0.0, 0.0], [0.0, 0.0, 0.0, 177.0, 0.0, 0.0], [0.0, 0.0, 0.0, 0.0, 203.0, 0.0], [0.0, 0.0, 0.0, 0.0, 0.0, 187.0]]', 'material_id': 'mp-1007881'}\n",
      "{'material_id': 'mp-1007881', 'crystal system': 'Orthorhombic', 'description': \"The material FeB with a reduced composition of {'Fe': 1.0, 'B': 1.0} exhibits a density of 6.877 g/cm^3 and a density per atom of 8.047 g/cm^3. The information about the elements contained in the material is as follows. B has an electronegativity of 2.04, an ionization energy of 8.298 eV, a bulk modulus of 320.0 GPa, an atomic radius of 0.87 Å. Fe has an electronegativity of 1.83, an ionization energy of 7.902 eV, a bulk modulus of 170.0 GPa, a Young's modulus of 211.0 GPa, a Poisson's ratio of 0.29, an atomic radius of 1.56 Å. FeB crystallizes in the orthorhombic Cmcm space group. Fe(1)3+ is bonded in a 7-coordinate geometry to seven equivalent B(1)3- atoms. There are a spread of Fe(1)-B(1) bond distances ranging from 2.14-2.17 Å. B(1)3- is bonded in a 9-coordinate geometry to seven equivalent Fe(1)3+ and two equivalent B(1)3- atoms. Both B(1)-B(1) bond lengths are 1.80 Å.\", 'elastic tensor': [[450.0, 195.0, 171.0, 0.0, 0.0, 0.0], [195.0, 470.0, 150.0, 0.0, 0.0, 0.0], [171.0, 150.0, 345.0, 0.0, 0.0, 0.0], [0.0, 0.0, 0.0, 177.0, 0.0, 0.0], [0.0, 0.0, 0.0, 0.0, 203.0, 0.0], [0.0, 0.0, 0.0, 0.0, 0.0, 187.0]], 'bulk modulus': {'voigt': 254.969, 'reuss': 247.879, 'vrh': 251.424}, 'shear modulus': {'voigt': 163.419, 'reuss': 154.716, 'vrh': 159.067}, 'young modulus': 393.981, 'universal anisotropy': 0.31, 'isotropic possion ratio': 0.239}\n"
     ]
    }
   ],
   "source": [
    "print(len(prediction_data))\n",
    "print(len(test_data))\n",
    "print(len(filtered_data))\n",
    "print(prediction_data[0])\n",
    "print(test_data[0])\n",
    "print(filtered_data[0])"
   ]
  },
  {
   "cell_type": "code",
   "execution_count": 3,
   "metadata": {},
   "outputs": [],
   "source": [
    "crystal_system_name = ['Cubic', 'Tetragonal', 'Hexagonal', 'Orthorhombic', 'Trigonal', 'Monoclinic', 'Triclinic']\n"
   ]
  },
  {
   "cell_type": "code",
   "execution_count": 8,
   "metadata": {},
   "outputs": [
    {
     "name": "stdout",
     "output_type": "stream",
     "text": [
      "train_crystal_system_count: {'Cubic': 3792, 'Tetragonal': 1829, 'Hexagonal': 1320, 'Orthorhombic': 1248, 'Trigonal': 731, 'Monoclinic': 518, 'Triclinic': 60}\n"
     ]
    }
   ],
   "source": [
    "# training set system distribution\n",
    "from datasets import Dataset\n",
    "# Check for data leakage\n",
    "real_train_data = Dataset.from_json(\"/Users/siyuliu/Library/CloudStorage/OneDrive-TheUniversityofHongKong-Connect/Project/EC/source_code/reproduce/data/prompt_type_4/real_train_dataset_with_mpid.json\")\n",
    "    \n",
    "train_mp_list = [item['material_id'] for item in real_train_data]\n",
    "\n",
    "train_crystal_system_list = []\n",
    "for i in range(len(train_mp_list)):\n",
    "    for j in range(len(filtered_data)):\n",
    "        if train_mp_list[i] == filtered_data[j]['material_id']:\n",
    "            train_crystal_system_list.append(filtered_data[j]['crystal system'])\n",
    "train_crystal_system_count = {}\n",
    "for system in crystal_system_name:\n",
    "    train_crystal_system_count[system] = train_crystal_system_list.count(system)\n",
    "print(\"train_crystal_system_count:\", train_crystal_system_count)\n"
   ]
  },
  {
   "cell_type": "code",
   "execution_count": 4,
   "metadata": {},
   "outputs": [
    {
     "name": "stdout",
     "output_type": "stream",
     "text": [
      "522\n"
     ]
    }
   ],
   "source": [
    "dataset = []\n",
    "for i in range(len(test_data)):\n",
    "    datapoint = {\"material_id\": test_data[i]['material_id'], \"prediction\": prediction_data[i]['predict'], \"label\": test_data[i]['output']} \n",
    "    for j in range(len(filtered_data)):\n",
    "        if test_data[i]['material_id'] == filtered_data[j]['material_id']:\n",
    "            datapoint['crystal_system'] = filtered_data[j]['crystal system']\n",
    "    dataset.append(datapoint)\n",
    "print(len(dataset))"
   ]
  },
  {
   "cell_type": "code",
   "execution_count": 5,
   "metadata": {},
   "outputs": [],
   "source": [
    "import re\n",
    "import ast\n",
    "\n",
    "def get_pure_text(text):\n",
    "    return re.match(r\"\\[\\[.*?\\]\\]\", text, re.DOTALL).group(0)\n",
    "\n",
    "for i in range(len(dataset)):\n",
    "    try:\n",
    "        r = ast.literal_eval(dataset[i]['label'])\n",
    "        p = eval(get_pure_text(dataset[i]['prediction']))\n",
    "        dataset[i]['label'] = r\n",
    "        dataset[i]['prediction'] = p\n",
    "    except:\n",
    "        print(i)\n",
    "        print(dataset[i]['material_id'])\n",
    "        continue"
   ]
  },
  {
   "cell_type": "code",
   "execution_count": 8,
   "metadata": {},
   "outputs": [
    {
     "name": "stdout",
     "output_type": "stream",
     "text": [
      "Performance metrics by crystal system:\n",
      "--------------------------------------------------\n",
      "Crystal System     Count        MAE         R2\n",
      "--------------------------------------------------\n",
      "Cubic                208     2.0291     0.9740\n",
      "Tetragonal           101     2.3790     0.9555\n",
      "Hexagonal             73     2.0483     0.9688\n",
      "Orthorhombic          69     3.0048     0.9413\n",
      "Trigonal              40     2.5931     0.9620\n",
      "Monoclinic            28     2.9683     0.9335\n",
      "Triclinic              3     2.0556    -3.0961\n"
     ]
    }
   ],
   "source": [
    "from sklearn.metrics import mean_absolute_error, r2_score\n",
    "import numpy as np\n",
    "# Calculate MAE and R2 for each crystal system\n",
    "results = {}\n",
    "for system in crystal_system_name:\n",
    "    system_data = [d for d in dataset if d.get('crystal_system') == system]\n",
    "    if system_data:\n",
    "        true_values = [np.mean(d['label']) for d in system_data]\n",
    "        pred_values = [np.mean(d['prediction']) for d in system_data]\n",
    "        \n",
    "        mae = mean_absolute_error(true_values, pred_values)\n",
    "        r2 = r2_score(true_values, pred_values)\n",
    "        \n",
    "        results[system] = {\n",
    "            'count': len(system_data),\n",
    "            'MAE': mae,\n",
    "            'R2': r2\n",
    "        }\n",
    "\n",
    "# Print results\n",
    "print(\"Performance metrics by crystal system:\")\n",
    "print(\"-\" * 50)\n",
    "print(f\"{'Crystal System':<15} {'Count':>8} {'MAE':>10} {'R2':>10}\")\n",
    "print(\"-\" * 50)\n",
    "for system in crystal_system_name:\n",
    "    if system in results:\n",
    "        metrics = results[system]\n",
    "        print(f\"{system:<15} {metrics['count']:>8} {metrics['MAE']:>10.4f} {metrics['R2']:>10.4f}\")"
   ]
  },
  {
   "cell_type": "code",
   "execution_count": 9,
   "metadata": {},
   "outputs": [
    {
     "name": "stdout",
     "output_type": "stream",
     "text": [
      "Performance metrics by crystal system (Bulk Modulus):\n",
      "--------------------------------------------------\n",
      "Crystal System     Count        MAE         R2\n",
      "--------------------------------------------------\n",
      "Cubic                208     7.0225     0.9720\n",
      "Tetragonal           101     7.7359     0.9610\n",
      "Hexagonal             73     7.0792     0.9570\n",
      "Orthorhombic          69     9.3511     0.9452\n",
      "Trigonal              40     8.7556     0.9627\n",
      "Monoclinic            28     9.8373     0.9382\n",
      "Triclinic              3     3.7037     0.2819\n"
     ]
    }
   ],
   "source": [
    "from pymatgen.analysis.elasticity import ElasticTensor\n",
    "import numpy as np\n",
    "\n",
    "def calculate_properties(stiffness_matrix: list) -> (float, float, float):\n",
    "    elastic_constant = np.asarray(stiffness_matrix)\n",
    "    elastic_tensor = ElasticTensor.from_voigt(elastic_constant)\n",
    "    bulk_modulus = round(elastic_tensor.k_voigt, 3)\n",
    "    return bulk_modulus\n",
    "\n",
    "# calculate bulk modulus MAE and R2 for each crystal system\n",
    "results_bulk_modulus = {}\n",
    "for system in crystal_system_name:\n",
    "    system_data = [d for d in dataset if d.get('crystal_system') == system]\n",
    "    if system_data:\n",
    "        true_values = [calculate_properties(d['label']) for d in system_data]\n",
    "        pred_values = [calculate_properties(d['prediction']) for d in system_data]\n",
    "        \n",
    "        mae = mean_absolute_error(true_values, pred_values)\n",
    "        r2 = r2_score(true_values, pred_values)\n",
    "        \n",
    "        results_bulk_modulus[system] = {\n",
    "            'count': len(system_data),\n",
    "            'MAE': mae,\n",
    "            'R2': r2\n",
    "        }\n",
    "\n",
    "# Print results\n",
    "print(\"Performance metrics by crystal system (Bulk Modulus):\")\n",
    "print(\"-\" * 50)\n",
    "print(f\"{'Crystal System':<15} {'Count':>8} {'MAE':>10} {'R2':>10}\")\n",
    "print(\"-\" * 50)\n",
    "for system in crystal_system_name:\n",
    "    if system in results_bulk_modulus:\n",
    "        metrics = results_bulk_modulus[system]\n",
    "        print(f\"{system:<15} {metrics['count']:>8} {metrics['MAE']:>10.4f} {metrics['R2']:>10.4f}\")"
   ]
  },
  {
   "cell_type": "code",
   "execution_count": null,
   "metadata": {},
   "outputs": [],
   "source": []
  }
 ],
 "metadata": {
  "kernelspec": {
   "display_name": "llm",
   "language": "python",
   "name": "python3"
  },
  "language_info": {
   "codemirror_mode": {
    "name": "ipython",
    "version": 3
   },
   "file_extension": ".py",
   "mimetype": "text/x-python",
   "name": "python",
   "nbconvert_exporter": "python",
   "pygments_lexer": "ipython3",
   "version": "3.10.14"
  }
 },
 "nbformat": 4,
 "nbformat_minor": 2
}
